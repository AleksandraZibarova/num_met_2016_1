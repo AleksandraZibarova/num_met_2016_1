{
 "cells": [
  {
   "cell_type": "markdown",
   "metadata": {},
   "source": [
    "# Лабораторная работа №6\n",
    "## Экстремум функций многих переменных\n",
    "### Выполнил: студент 430 группы Кудряшов Андрей"
   ]
  },
  {
   "cell_type": "markdown",
   "metadata": {},
   "source": [
    "  ### Цель работы: ознакомиться с методами поиска экстремумов функций многих переменных; найти минимум функции методом покординатного спуска\n",
    " "
   ]
  },
  {
   "cell_type": "markdown",
   "metadata": {},
   "source": [
    "### Заданная функция:\n",
    "$$f(x,y)=(x-2)^2+2y^2+5,5$$\n",
    "### Метод покоординатного спуска\n",
    "Выберем некототрую начальную точку $Z_0=(x_0,y_0)$.Зафиксируем переменную $y$. Таким образом у нас получится функция одной переменной \n",
    "$f(x,y_0)$ Будем проводить минимизацию одномерной функции, для чего используем метод половинного деления.\n",
    "##### Метод половинного деления для отыскания минимума функции:\n",
    "Выбирается некоторый отрезок $[a,b]$ и делится пополам: $x=(b+a)/2$. Далее сравниваются значения функции в окрестности точки x:\n",
    "Если $f(x+\\varepsilon)>f(x-\\varepsilon)$, то левый отрезок делится пополам (если меньше, то правый), и повторяется все до тех пор, пока отрезок $[a,b]$ не будет меньше заданной точности\n",
    "Новое значение $x$: $x=(b+a)/2$\n",
    "$$\\;$$\n",
    "Проведем такую же минимизацию целевой функции по переменной $у$. Затем снова вернемся к x и продолжим процесс. Эта процедура вполне оправдывает название метода. С ее помощью мы построим последовательность точек $Z_0$,$Z_1$,$Z_2$, . . . , которой соответствует монотонная последовательность значений функции $f(Z_0) >= f (Z_1)>= f(Z_2) >=$  ...    Обрывая ее на некотором шаге $k$ можно приближенно принять  значение функции $f(Z_k)$ за ее наименьшее значение в рассматриваемой области.\n"
   ]
  },
  {
   "cell_type": "code",
   "execution_count": 1,
   "metadata": {
    "collapsed": false
   },
   "outputs": [
    {
     "name": "stdout",
     "output_type": "stream",
     "text": [
      "1\n",
      "точка минимума:( 2.00000762939 ; 7.1054273576e-15 )\n"
     ]
    }
   ],
   "source": [
    "import math\n",
    "import numpy as np\n",
    "e=0.0001\n",
    "int=5\n",
    "def f(x,y):\n",
    "#     return (x-2)*(x-2)+2*(y)*(y)+5.5\n",
    "    return -np.exp(-(x-2)**2-(y)**2)\n",
    "Z=np.array([0,2])\n",
    "X=[0]\n",
    "Y=[2]\n",
    "s=1\n",
    "d=1\n",
    "k=0\n",
    "while d>e:\n",
    "    D=Z\n",
    "    a=Z[0]-int\n",
    "    b=Z[0]+int\n",
    "    while s>e:\n",
    "        xn=(b+a)/2\n",
    "        if f(xn+e,Z[1])>f(xn-e,Z[1]):\n",
    "            b=xn\n",
    "            xn=(a+b)/2\n",
    "        elif f(xn+e,Z[1])<f(xn-e,Z[1]):\n",
    "            a=xn\n",
    "            xn=(a+b)/2\n",
    "        else:\n",
    "            break\n",
    "        s=b-a\n",
    "    Z[0]=xn\n",
    "    a=Z[1]-int\n",
    "    b=Z[1]+int\n",
    "    s=1\n",
    "    while s>e:\n",
    "        yn=(b+a)/2\n",
    "        if f(Z[0],yn+e)>f(Z[0],yn-e):\n",
    "            b=yn\n",
    "            yn=(a+b)/2\n",
    "        elif f(Z[0],yn+e)<f(Z[0],yn-e):\n",
    "            a=yn\n",
    "            yn=(a+b)/2     \n",
    "        else:\n",
    "            break\n",
    "    Z[1]=yn\n",
    "    D=Z-D\n",
    "    d=math.sqrt(np.dot(D,D))\n",
    "    k+=1\n",
    "    X.append(xn)\n",
    "    Y.append(Y[0])\n",
    "    X.append(xn)\n",
    "    Y.append(yn)\n",
    "print(k)\n",
    "print(\"точка минимума:(\",xn,\";\",yn,\")\")"
   ]
  },
  {
   "cell_type": "markdown",
   "metadata": {},
   "source": [
    "#### Построим траекторию поиска и линии уровня"
   ]
  },
  {
   "cell_type": "code",
   "execution_count": 2,
   "metadata": {
    "collapsed": false,
    "scrolled": false
   },
   "outputs": [],
   "source": [
    "import pylab\n",
    "import matplotlib.pyplot as plt\n",
    "def lines():\n",
    "    x = np.arange(-0.1, 4, 0.05)\n",
    "    y = np.arange(-2, 2, 0.05)\n",
    "    xgrid, ygrid = np.meshgrid(x, y)\n",
    "    zgrid = (xgrid-2)**2+ygrid**2+5.5\n",
    "    return xgrid, ygrid, zgrid\n",
    "plt.plot(X,Y)\n",
    "plt.legend ( ('search',) )\n",
    "plt.xlabel('x')\n",
    "plt.ylabel('y')\n",
    "plt.grid()\n",
    "plt.xlim(-1,3)\n",
    "plt.ylim(-1,3)\n",
    "plt.show()\n",
    "x, y, z = lines()\n",
    "cs = pylab.contour(x, y, z)\n",
    "pylab.clabel(cs)\n",
    "pylab.contour(x, y, z)\n",
    "pylab.show()\n"
   ]
  },
  {
   "cell_type": "markdown",
   "metadata": {},
   "source": [
    "#### Оценим овражность и исследуем условия сходимости\n",
    "Для этого вычислим матрицу Гессе:\n",
    "$$∇^2f(x)=\\begin{pmatrix} \\frac{d^2f}{dx^2} & \\frac{d^2f}{dxdy} \\\\ \\frac{d^2f}{dydx} & \\frac{d^2f}{dy^2} \\end{pmatrix}$$\n",
    "В нашем случае $\\frac{d^2f}{dx^2}=2$; $\\frac{d^2f}{dxdy}=\\frac{d^2f}{dydx}=0$; $\\frac{d^2f}{dy^2}=4$\n",
    "$$\\;$$\n",
    "Овражность - это отношение максимального собственного значения матрицы Гессе к минимальному\n",
    "$$\\;$$\n",
    "Для оценки сходимости проверим, что все собственные числа матрицы Гессе положительны\n",
    "\n"
   ]
  },
  {
   "cell_type": "code",
   "execution_count": 56,
   "metadata": {
    "collapsed": false
   },
   "outputs": [
    {
     "name": "stdout",
     "output_type": "stream",
     "text": [
      "овражность 2.0\n",
      "собственные числа [ 2.  4.]\n"
     ]
    }
   ],
   "source": [
    "import numpy as np\n",
    "A=np.array([[2,0],[0,4]])\n",
    "B=np.linalg.eig(A)\n",
    "C=B[0]\n",
    "if(C[0]>C[1]):\n",
    "    ovr=C[0]/C[1]\n",
    "else:\n",
    "    ovr=C[1]/C[0]   \n",
    "print(\"овражность\",ovr)\n",
    "print(\"собственные числа\",C)"
   ]
  }
 ],
 "metadata": {
  "anaconda-cloud": {},
  "kernelspec": {
   "display_name": "Python [Root]",
   "language": "python",
   "name": "Python [Root]"
  },
  "language_info": {
   "codemirror_mode": {
    "name": "ipython",
    "version": 3
   },
   "file_extension": ".py",
   "mimetype": "text/x-python",
   "name": "python",
   "nbconvert_exporter": "python",
   "pygments_lexer": "ipython3",
   "version": "3.5.2"
  }
 },
 "nbformat": 4,
 "nbformat_minor": 0
}
