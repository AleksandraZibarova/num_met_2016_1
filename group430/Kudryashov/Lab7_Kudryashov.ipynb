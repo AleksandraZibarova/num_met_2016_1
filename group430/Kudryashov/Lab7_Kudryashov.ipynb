{
 "cells": [
  {
   "cell_type": "markdown",
   "metadata": {},
   "source": [
    "# Лабораторная работа №7\n",
    "## Решение задачи Коши\n",
    "### Выполнил: студент 430 группы Кудряшов Андрей"
   ]
  },
  {
   "cell_type": "markdown",
   "metadata": {},
   "source": [
    "## Цель работы: ознакомиться с методами решения дифференциальных уравнений; решить задачу коши с помощью неявной схемы Роте"
   ]
  },
  {
   "cell_type": "markdown",
   "metadata": {},
   "source": [
    "## Заданное уранение\n",
    "$$y\"+9y'-9y=e^{-x}\\cdot cos(3x)$$\n",
    "### Начальные условия:\n",
    "$$y(0)=1$$\n",
    "$$y'(0)=0$$\n",
    "### Решение нужно найти на промежутке $x\\in[0;2]$"
   ]
  },
  {
   "cell_type": "markdown",
   "metadata": {},
   "source": [
    "В общем виде линейное уравнение второго порядка выглядит следующим образом\n",
    "$$y\"+cy'+dy=f(x)$$\n",
    "Разобьем данное уранение второго порядка на систему двух уравнений первого порядка:\n",
    "$$y_1'=y_2=g_1$$\n",
    "$$y_2'=-cy_2-dy_1+f(x)=g_2$$\n",
    "Решение задачи Коши эквивалентно решению системы интегральных уравнений\n",
    "$$y^{i+1}_k=y^i_k+\\int\\limits_{x_i}^{x_{i+1}}g_kdx$$\n",
    "с заданными начальными условиями\n",
    "$$\\;$$\n",
    "Схема Роте является неявной схемой, где интегрирование заменяется квадратурной формулой с весами\n",
    "$$\\;$$\n",
    "$$y_k^{i+1}=y_k^i+h(\\alpha g_k(x^i,y_1^i...) + \\beta g_k(x^{i+1},y_1^{i+1}...))$$\n",
    "$$\\;$$\n",
    "где $h$-шаг, определяемый относительной погрешностью, $\\alpha$ и $\\beta$ - веса квадратурной формулы\n",
    "$$\\;$$\n",
    "Тогда для линейного уравнения второго порядка получаем:\n",
    "$$\\;$$\n",
    "$$y_1^{i+1}=y_1^i+h(\\alpha y_2^i+\\beta y_2^{i+1})$$\n",
    "$$y_2^{i+1}=y_2^i+h(\\alpha(-cy_2^i-dy_1^i+f(x^i))+\\beta(-cy_2^{i+1}-dy_1^{i+1}+f(x^{i+1}))$$\n",
    "$$\\;$$\n",
    "перeносим неизвестные $y_1^{i+1}$ и $y_2^{i+1}$ в левую часть и решаем относитьно них систему для всех $x^i$\n",
    "$$\\;$$\n",
    "$$\\begin{pmatrix}1 & -h\\beta \\\\ h\\beta d & 1+h\\beta c \\end{pmatrix}\\cdot \\begin{pmatrix}y_1^{i+1} \\\\ y_2^{i+1} \\end{pmatrix}=\\begin{pmatrix}y^i_1+h\\alpha y_2^i \\\\ y_2^i+h\\alpha(-cy_2^i-dy_1^i+f(x^i))+h\\beta f(x^{i+i} \\end{pmatrix} $$\n",
    "$$\\;$$\n",
    "В нашей задаче $c=9$, $d=-9$, $\\alpha=\\frac{1}{3}$, $\\beta=\\frac{2}{3}$, $f(x)=e^{-x}\\cdot cos(3x)$"
   ]
  },
  {
   "cell_type": "code",
   "execution_count": 1,
   "metadata": {
    "collapsed": false
   },
   "outputs": [
    {
     "name": "stdout",
     "output_type": "stream",
     "text": [
      "шаг 0.000244140625\n",
      "13 итераций\n"
     ]
    }
   ],
   "source": [
    "import numpy as np\n",
    "import math as m\n",
    "import matplotlib.pyplot as plt\n",
    "%matplotlib inline\n",
    "def f(x):\n",
    "    return m.cos(3*x)*m.e**(-x) #правая часть уравнения\n",
    "c=9 ; d=-9        #коэффициенты при слагаемых в левой части\n",
    "a=1/3 ; b=2/3     #веса в схеме Роте\n",
    "Y1=[1] ; Y2=[0]   #начальные условия\n",
    "x0=0 ; x1=2       #интервал\n",
    "e=0.0001            #относительная точность\n",
    "h=1               #начальный шаг\n",
    "k=0               #счетчик итераций\n",
    "while 1:\n",
    "    X=np.arange(x0,x1+2*h,h)\n",
    "    n=1\n",
    "    r=0\n",
    "    i=0\n",
    "    Y1old=Y1\n",
    "    Y2old=Y2\n",
    "    Y1=[1]\n",
    "    Y2=[0]\n",
    "    while i<(x1+h)/h:\n",
    "        A=[[1.,-h*b],\n",
    "          [d*h*b,1.+c*h*b]]\n",
    "        B=[Y1[i]+h*a*Y2[i],Y2[i]+h*a*(-d*Y1[i]-c*Y2[i]+f(X[i]))+h*b*f(X[i+1])]\n",
    "        C=np.linalg.solve(A,B)\n",
    "        Y1.append(C[0])\n",
    "        Y2.append(C[1])\n",
    "        i+=1\n",
    "    if k>0:\n",
    "        i=0\n",
    "        while i<(x1+2*h)/(2*h):\n",
    "            delta=abs((Y1old[i]-Y1[2*i])/Y1old[i])  #Проверка точности\n",
    "            if delta>e:\n",
    "                r+=1\n",
    "            i+=1\n",
    "        n=r\n",
    "    k+=1\n",
    "    if n==0:\n",
    "        break\n",
    "    h=h/2\n",
    "        \n",
    "print(\"шаг\",h)\n",
    "print(k,\"итераций\")"
   ]
  },
  {
   "cell_type": "markdown",
   "metadata": {},
   "source": [
    "### Для сравнения найдем точное решение уравнения:\n",
    "$$y=C_1e^{\\lambda_1 x}+C_2e^{\\lambda_2 x}+e^{-x}(Acos(3x)+Bsin(3x))$$\n",
    "$$\\;$$\n",
    "Нетрудно убедиться, что$$\\;$$\n",
    "$\\lambda_1=-9+3\\sqrt{13}$, $\\lambda_2=-9-3\\sqrt{13}$, $A=-\\frac{26}{1117}$, $B=\\frac{21}{1117}$, $C_1=\\frac{(1-A)\\lambda_2-A+3B}{\\lambda_2-\\lambda_1}$, $C_2=\\frac{(-1+A)\\lambda_1+A-3B}{\\lambda_2-\\lambda_1}$"
   ]
  },
  {
   "cell_type": "code",
   "execution_count": 2,
   "metadata": {
    "collapsed": false
   },
   "outputs": [],
   "source": [
    "l1=(-9+3*m.sqrt(13))/2\n",
    "l2=(-9-3*m.sqrt(13))/2\n",
    "c1=((1+26/1117)*l2+26/1117+63/1117)/((l2-l1))\n",
    "c2=(-(1+26/1117)*l1-26/1117-63/1117)/((l2-l1))\n",
    "def ex(t):\n",
    "    ex=c1*m.e**(l1*t)+c2*m.e**(l2*t)+m.e**(-t)*((-26/1117)*m.cos(3*t)+63/1117*m.sin(3*t))\n",
    "    return ex\n",
    "T=np.arange(0,2+2*h,h)\n",
    "exn=[ex(t) for t in T]"
   ]
  },
  {
   "cell_type": "markdown",
   "metadata": {},
   "source": [
    "### Построим графики точного решения и решения, найденного по схеме Роте:"
   ]
  },
  {
   "cell_type": "code",
   "execution_count": 3,
   "metadata": {
    "collapsed": false
   },
   "outputs": [
    {
     "data": {
      "image/png": "[encoded data removed]",
      "text/plain": [
       "<matplotlib.figure.Figure at 0x2242098be0>"
      ]
     },
     "metadata": {},
     "output_type": "display_data"
    },
    {
     "data": {
      "image/png": "[encoded data removed]",
      "text/plain": [
       "<matplotlib.figure.Figure at 0x224255ab00>"
      ]
     },
     "metadata": {},
     "output_type": "display_data"
    }
   ],
   "source": [
    "plt.plot(T,exn)\n",
    "plt.plot(X,Y1)\n",
    "plt.xlim(0,3.1)\n",
    "plt.ylim(0,6.3)\n",
    "plt.xlabel('x')\n",
    "plt.ylabel('y')\n",
    "plt.legend ( ('exact','method') )\n",
    "plt.grid()\n",
    "plt.show()\n",
    "plt.plot(X,np.array(Y1)-np.array(exn))\n",
    "plt.xlabel('x')\n",
    "plt.ylabel(('difference'))\n",
    "plt.grid()\n",
    "plt.show()    "
   ]
  }
 ],
 "metadata": {
  "anaconda-cloud": {},
  "kernelspec": {
   "display_name": "Python [Root]",
   "language": "python",
   "name": "Python [Root]"
  },
  "language_info": {
   "codemirror_mode": {
    "name": "ipython",
    "version": 3
   },
   "file_extension": ".py",
   "mimetype": "text/x-python",
   "name": "python",
   "nbconvert_exporter": "python",
   "pygments_lexer": "ipython3",
   "version": "3.5.2"
  }
 },
 "nbformat": 4,
 "nbformat_minor": 0
}
