{
 "cells": [
  {
   "cell_type": "markdown",
   "metadata": {},
   "source": [
    "# Лабораторная работа №5\n",
    "## Решение СЛАУ\n",
    "### Выполнил: студент 430 группы Кудряшов Андрей\n"
   ]
  },
  {
   "cell_type": "markdown",
   "metadata": {},
   "source": [
    "  ### Цель работы: ознакомиться с методами решения систем линейных уравнений и интегралов; решить систему и определенный интеграл заданными методами с заданной точностью"
   ]
  },
  {
   "cell_type": "markdown",
   "metadata": {},
   "source": [
    "## Исходная система:\n",
    "$$n^4x_i = \\sum_{j=1}^{n}\\frac{j^3}{1+i^2}sin(j)x_j + \\int_{0}^{\\infty}sin(t)e^{-it}dt \\;\\;\\;\\; i\\in(1,n)$$\n",
    "Относительная точность интеграла e=0.01; Системы eps=0.001"
   ]
  },
  {
   "cell_type": "markdown",
   "metadata": {},
   "source": [
    "# Задание 1\n",
    "### Численное решение определенного интеграла методом трапеций\n",
    "Метод трапеций заключается в том, что на каждом шаге интегрирования функция аппроксимируется прямой. Тогда площадь под графиком на одном шаге будет равна:\n",
    "$$S_j = (\\frac{f(t_j) + f(t_j+dt)}{2})\\cdot dt$$\n",
    "где dt - шаг интегрирования\n",
    "Тогда в случае равномерного шага интеграл можно найти как:\n",
    "$$\\int_{a}^{b}f(t)dt = dt\\cdot (\\frac{f(a)+f(b)}{2}+\\sum_{j=1}^{n-1}f(t_j))+E(f)$$\n",
    "E - погрешность аппроксимации, которую можно оценить через максимум второй производной\n",
    "$$E=\\frac{f\"_{max}}{12}(b-a)(dt)^2$$\n",
    "Отсюда можно найти шаг интегрирования для обеспечения нужной нам точности:\n",
    "$$dt=\\sqrt{\\frac{12E}{f\"_{max}(b-a)}}$$\n",
    "$$\\;$$\n",
    "В нашем случае подынтегральная функция и  ее вторая производная соответственно равны:\n",
    "$$f(t)=sin(t)e^{-it}$$\n",
    "$$f''=e^{-it}(i^2sin(t)-2icos(t)-sin(t)$$\n",
    "$$\\;$$\n",
    "Очевидно, что вторая производная максимальна в точке t=0, и равна по модулю:\n",
    "$$f''_{max}=2i$$\n",
    "и шаг интегрирования:\n",
    "$$dt=\\sqrt{\\frac{12E}{2ib}}$$\n",
    "$$\\;$$\n",
    "Так как нам задан несобственный интеграл, и верхний предел b=$\\infty$, то для нахождения его методом трапеций нужно взять настолько большое b, чтобы $\\int_{b}^{\\infty}sin(t)e^{-it}dt$ был меньше заданной точности E$$\\;$$\n",
    "Для оценки этого интеграла возьмем подынтегральную функцию равной $f(t)=e^{-it}$:\n",
    "$$\\;$$\n",
    "$\\int_{b}^{\\infty}e^{-it}dt=\\frac{e^{-ib}}{i}=E$, откуда $$b=-\\frac{ln(iE)}{i}$$\n",
    "$$\\;$$\n",
    "Нам задана относительная погрешность e, а Е - это абсолютная, $E=eI$, где I-значение интеграла. Оценив значение интегралов при разных i, приходим к выводу, что значения для рядом стоящих i - одного порядка, и отличаются максимум в 2.5 раза. Поэтому при нахождении шага и верхнего предела для i-го интеграла будем использовать значение i-1-го: $E_i=eI_{i-1}$\n",
    "$$\\;$$\n",
    "Окончательно получаем:\n",
    "$$dt_i=\\sqrt{\\frac{12eI_{i-1}}{2ib}}$$\n",
    "$$b_i=-\\frac{ln(ieI_{i-1})}{i}$$\n",
    "Помимо вычисления, построим график интеграла от номера итерации, а также для сравнения посчитаем интеграл через функцию numpy.trapz"
   ]
  },
  {
   "cell_type": "code",
   "execution_count": 6,
   "metadata": {
    "collapsed": false
   },
   "outputs": [
    {
     "name": "stdout",
     "output_type": "stream",
     "text": [
      "Значение интеграла, посчитанного методом трапеций I= 0.5157912166648548\n",
      "Значение интеграла через функцию numpy.trapz Itrapz= 0.514239421307\n"
     ]
    },
    {
     "data": {
      "image/png": "[encoded data removed]",
      "text/plain": [
       "<matplotlib.figure.Figure at 0xc44467afd0>"
      ]
     },
     "metadata": {},
     "output_type": "display_data"
    },
    {
     "data": {
      "image/png": "[encoded data removed]",
      "text/plain": [
       "<matplotlib.figure.Figure at 0xc4484af898>"
      ]
     },
     "metadata": {},
     "output_type": "display_data"
    },
    {
     "name": "stdout",
     "output_type": "stream",
     "text": [
      "0.322094202041626 секунд\n"
     ]
    }
   ],
   "source": [
    "import numpy as np\n",
    "import math as m\n",
    "import matplotlib.pyplot as plt\n",
    "import time\n",
    "%matplotlib inline\n",
    "start=time.time()\n",
    "n=1000\n",
    "e=0.01\n",
    "i=1\n",
    "eps=0.001\n",
    "B=[]\n",
    "def y(x,i):\n",
    "    y=m.sin(x)*m.e**(-i*x)\n",
    "    return y\n",
    "A=[1]\n",
    "dx=0.1\n",
    "I=0\n",
    "j=0\n",
    "k=0\n",
    "delta=1\n",
    "while delta>e:\n",
    "    k+=1\n",
    "    I+=(y(j+dx,i)+y(j,i))/2*dx\n",
    "    j+=dx\n",
    "    A.append(I)\n",
    "    delta=abs((A[k]-A[k-1])/A[k])\n",
    "b=j\n",
    "J=I\n",
    "I=0\n",
    "A=[J]\n",
    "Int=[J]\n",
    "Xtr=np.arange(0,b,dx)\n",
    "Ytr=[y(x,i) for x in Xtr]\n",
    "Itr=np.trapz(Ytr,Xtr,dx)\n",
    "Itrapz=[Itr]\n",
    "delta=1\n",
    "Integr=1\n",
    "j=0\n",
    "k=0\n",
    "while delta>e:\n",
    "    k+=1\n",
    "    dx*=0.5\n",
    "    while j<b+dx:\n",
    "        I+=dx*(y(j+dx,i)+y(j,i))/2\n",
    "        j+=dx\n",
    "    A.append(I)\n",
    "    delta=abs((A[k]-A[k-1])/A[k-1])\n",
    "    Int.append(I)\n",
    "    Xtr=np.arange(0,b+dx,dx)\n",
    "    Ytr=[y(x,i) for x in Xtr]\n",
    "    Itr=np.trapz(Ytr,Xtr)\n",
    "    Itrapz.insert(k,Itr)\n",
    "iteration=range(0,k+1)\n",
    "print(\"Значение интеграла, посчитанного методом трапеций I=\",I)\n",
    "print(\"Значение интеграла через функцию numpy.trapz Itrapz=\",Itr)\n",
    "plt.plot(iteration,Int)\n",
    "plt.xlabel('iteration')\n",
    "plt.ylabel('Int')\n",
    "plt.grid()\n",
    "plt.show()\n",
    "plt.plot(iteration,np.array(Int)-np.array(Itrapz))\n",
    "plt.xlabel('iteration')\n",
    "plt.ylabel('Difference')\n",
    "plt.grid()\n",
    "plt.show()\n",
    "print(time.time()-start,\"секунд\")"
   ]
  },
  {
   "cell_type": "markdown",
   "metadata": {},
   "source": [
    "# Задание 2 \n",
    "## Решение СЛАУ методом минимальной невязки\n",
    "Системы $n$ линейных уравнений с $n$ неизвестными $x_1$, $x_2$, ..., $x_n$  в общем случае принято записывать следующим образом:\n",
    "$$\\sum_{j=1}^{n}a_{ij}x_j=b_i;\\;\\;\\;i\\in(1,n)$$\n",
    "де $а_{ij}$  и  $b_{i}$ – произвольные константы. Число n неизвестных называется порядком системы.\n",
    "\n",
    "Решением уравнения является такая совокупность значений переменных х1, х2,…, хn, которая одновременно обращает все уравнения системы в тождество.\n",
    "\n",
    "Необходимым и достаточным условием существования и единственности решения системы  уравнений является линейная независимость уравнений. Или, более точно, неравенство нулю определителя, составленного из коэффициентов системы уравнений:\n",
    "$$detA\\neq0$$\n",
    "\n",
    "Эквивалентной (и весьма удобной) записью системы линейных уравнений является матричная запись\n",
    "$$A\\cdot X=B$$\n",
    "В чем легко убедится, если воспользоваться правилами перемножения матриц: элемент, стоящий на пересечении i-й строки и j-го столбца матрицы-результата есть скалярное произведение i-й вектор-строки первой матрицы и j-го вектор-столбца второй матрицы.\n",
    "\n",
    "Коэффициенты при неизвестных образуют квадратную матрицу размером n x n, переменные и свободные члены уравнений – векторы-столбцы длиной n\n",
    "\n",
    "Решение системы уравнений есть вектор $X^*$, который обращает это матричное уравнение в тождество.\n",
    "Для решения системы линейных уравнений применяются точные методы (прямые) в которых количество арифметических, необходимых для нахождения решения, операций точно определяется порядком системы и итерационные (приближенные) методы, в которых проводится пошаговое, итерационное  уточнение решения.\n",
    "\n",
    "Оценить близость какого-либо вектора $X_i$ к решению системы уравнений можно оценив близость  вектора невязок , вычисляемого приведенным ниже образом, к нулевому вектору:\n",
    "$$\\Delta=B-A\\cdot X$$\n",
    "### Метод минимальных невязок\n",
    "\n",
    "Для решения линейных систем уравнений можно применять и различные методы поиска экстремумов. Проблема решения системы уравнений заменяется эквивалентной задачей нахождения экстремума функции n переменных.\n",
    "Одним из таких методов является метод минимальных невязок\n",
    "$\\Delta=B-A\\cdot X$\n",
    ".Очевидно, что если на место вектора (Х) подставить вектор решения, то второе слагаемое окажется равным вектору свободных членов и вектор невязок становится нулевым.\n",
    "\n",
    "Таким образом, минимизация компонентов вектора невязок эквивалентна задаче решения уравнений. Что бы знак невязок не влиял на результат, минимизируют сумму квадратов невязок\n",
    "\\;\n",
    "Запишем итерационную формулу поиска решения в следующем виде:\n",
    "$$X^{(k+1)}=X^{(k)}-\\tau_k\\cdot \\Delta^{(k)}$$\n",
    "где $\\tau_k$ - константа, которая расчитывается из условия минимума нормы вектора невязок на следующем шаге\n",
    "$$\\tau_k=-\\frac{((A\\cdot D^{(k)}),D^{(k)})}{((A\\cdot D^{(k)}),(A\\cdot D^{(k)}))}$$\n",
    "Окнчательно метод выглядит следующим образом:$$\\;$$\n",
    "1.Задается начальное приближение $X$;$$\\;$$\n",
    "2.Расчитывается вектор невязок $\\Delta$;$$\\;$$\n",
    "3.Расчитывается $\\tau$;$$\\;$$\n",
    "4.Расчитывается новое приближение к решению: $X+=-\\tau\\cdot \\Delta$ $$\\;$$\n",
    "5.Если не достигнута заданная точность - возвращаемся к пункту 2$$\\;$$\n",
    "Для окончательного расчета необходимо чтобы $\\frac{D_i}{x_i}<eps$ при всех i. Но так как метод быстро сходится, нам будет достаточно найти погрешность хотя бы при одном i, этого, как можно убедить ниже, достаточно для получения заданной точности\n"
   ]
  },
  {
   "cell_type": "markdown",
   "metadata": {},
   "source": [
    "### Решение системы для n=1000\n",
    "Для сравнения также решим систему с помощью функции linalg.solve"
   ]
  },
  {
   "cell_type": "code",
   "execution_count": 2,
   "metadata": {
    "collapsed": false
   },
   "outputs": [
    {
     "name": "stdout",
     "output_type": "stream",
     "text": [
      "Метод минимальной незязки: Х( 12 )= 6.65184910538e-15\n",
      "Функция linalg.solve: Х( 12 )= 6.65184910538e-15\n",
      "2.0157630443573 секунд\n"
     ]
    }
   ],
   "source": [
    "import numpy as np\n",
    "import math as m\n",
    "import matplotlib.pyplot as plt\n",
    "%matplotlib inline\n",
    "import time\n",
    "start=time.time()\n",
    "n=1000\n",
    "e=0.01\n",
    "eps=0.001\n",
    "def y(x,i):\n",
    "    y=m.sin(x)*m.e**(-i*x)\n",
    "    return y\n",
    "def I(i):\n",
    "    A=[0]\n",
    "    dx=0.05\n",
    "    I=0\n",
    "    j=0\n",
    "    k=0\n",
    "    delta=1\n",
    "    while delta>e:\n",
    "        k+=1\n",
    "        I+=(y(j+dx,i)+y(j,i))/2*dx\n",
    "        j+=dx\n",
    "        A.append(I)\n",
    "        delta=abs((A[k]-A[k-1])/A[k])\n",
    "    b=j\n",
    "    J=I\n",
    "    I=0\n",
    "    A=[J]\n",
    "    delta=1\n",
    "    Integr=1\n",
    "    j=0\n",
    "    k=0\n",
    "    while delta>e:\n",
    "        k+=1\n",
    "        while j<b+dx:\n",
    "            I+=dx*(y(j+dx,i)+y(j,i))/2\n",
    "            j+=dx\n",
    "        A.append(I)\n",
    "        delta=abs((A[k]-A[k-1])/A[k-1])\n",
    "        dx*=0.5\n",
    "    return (I)\n",
    "B=[I(i) for i in range (0,n)]\n",
    "A=np.zeros((n,n))\n",
    "for k in range(0,n):\n",
    "    for l in range(0,n):\n",
    "        A[k,l]=-((l+1)*(l+1)*(l+1)*m.sin(l+1)/(1+(k+1)*(k+1)))\n",
    "        if k==l:\n",
    "            A[k,l]+=n*n*n*n\n",
    "X=np.ones((n))\n",
    "X*=0.0000000000000174\n",
    "D=B-np.dot(A,X)\n",
    "a=1\n",
    "k=0\n",
    "while a>0:\n",
    "    k+=1\n",
    "    a=0\n",
    "    t=(np.dot(np.dot(A,D),D))/(np.dot(np.dot(A,D),np.dot(A,D)))\n",
    "    X+=t*D\n",
    "    D=B-np.dot(A,X)\n",
    "    #for m in range (0,n):\n",
    "    if abs(D[1]/X[1])>eps:\n",
    "        a+=1\n",
    "Xn=np.linalg.solve(A,B)\n",
    "alfa=12\n",
    "print(\"Метод минимальной незязки: Х(\",alfa,\")=\",X[alfa])\n",
    "print(\"Функция linalg.solve: Х(\",alfa,\")=\",Xn[alfa])\n",
    "print(time.time()-start,\"секунд\")"
   ]
  },
  {
   "cell_type": "markdown",
   "metadata": {},
   "source": [
    "### Решение системы для n=10000"
   ]
  },
  {
   "cell_type": "code",
   "execution_count": 2,
   "metadata": {
    "collapsed": false
   },
   "outputs": [
    {
     "name": "stdout",
     "output_type": "stream",
     "text": [
      "Метод минимальной незязки: Х( 12 )= 6.65184910537e-19\n",
      "Функция linalg.solve: Х( 12 )= 6.65184910537e-19\n",
      "178.50567960739136 секунд\n"
     ]
    }
   ],
   "source": [
    "import numpy as np\n",
    "import math as m\n",
    "import time\n",
    "start=time.time()\n",
    "n=10000\n",
    "e=0.01\n",
    "eps=0.001\n",
    "def y(x,i):\n",
    "    y=m.sin(x)*m.e**(-i*x)\n",
    "    return y\n",
    "def I(i):\n",
    "    A=[0]\n",
    "    dx=0.1\n",
    "    I=0\n",
    "    j=0\n",
    "    k=0\n",
    "    delta=1\n",
    "    while delta>e:\n",
    "        k+=1\n",
    "        I+=(y(j+dx,i)+y(j,i))/2*dx\n",
    "        j+=dx\n",
    "        A.append(I)\n",
    "        delta=abs((A[k]-A[k-1])/A[k])\n",
    "    b=j\n",
    "    J=I\n",
    "    I=0\n",
    "    A=[J]\n",
    "    delta=1\n",
    "    Integr=1\n",
    "    j=0\n",
    "    k=0\n",
    "    while delta>e:\n",
    "        k+=1\n",
    "        while j<b+dx:\n",
    "            I+=dx*(y(j+dx,i)+y(j,i))/2\n",
    "            j+=dx\n",
    "        A.append(I)\n",
    "        delta=2*abs((A[k]-A[k-1])/A[k-1])\n",
    "        dx*=0.5\n",
    "    return (I)\n",
    "B=[I(i) for i in range (0,n)]\n",
    "A=np.zeros((n,n))\n",
    "for k in range(0,n):\n",
    "    for l in range(0,n):\n",
    "        A[k,l]=-((l+1)*(l+1)*(l+1)*m.sin(l+1)/(1+(k+1)*(k+1)))\n",
    "        if k==l:\n",
    "            A[k,l]+=n*n*n*n\n",
    "X=np.ones((n))\n",
    "X*=0.0000000000000174\n",
    "D=B-np.dot(A,X)\n",
    "a=1\n",
    "k=0\n",
    "while a>0:\n",
    "    k+=1\n",
    "    a=0\n",
    "    t=(np.dot(np.dot(A,D),D))/(np.dot(np.dot(A,D),np.dot(A,D)))\n",
    "    X+=t*D\n",
    "    D=B-np.dot(A,X)\n",
    "    if abs(D[1]/X[1])>eps:\n",
    "        a+=1\n",
    "Xn=np.linalg.solve(A,B)\n",
    "alfa=12\n",
    "print(\"Метод минимальной незязки: Х(\",alfa,\")=\",X[alfa])\n",
    "print(\"Функция linalg.solve: Х(\",alfa,\")=\",Xn[alfa])\n",
    "print(time.time()-start,\"секунд\")"
   ]
  },
  {
   "cell_type": "markdown",
   "metadata": {},
   "source": [
    "  ### График решения\n",
    "  Построим график зависимости решения $x_i(i)$, график нормы решения от номера итерации, а так же график решения, полученного с помощью linalg.solve"
   ]
  },
  {
   "cell_type": "code",
   "execution_count": 42,
   "metadata": {
    "collapsed": false,
    "scrolled": true
   },
   "outputs": [
    {
     "name": "stdout",
     "output_type": "stream",
     "text": [
      "Метод минимальной незязки: Х( 920 )= 9.7723808326e-31\n",
      "Функция linalg.solve: Х( 920 )= 9.75841402637e-31\n",
      "количество итераций k= 3\n"
     ]
    }
   ],
   "source": [
    "import numpy as np\n",
    "import math as m\n",
    "import matplotlib.pyplot as plt\n",
    "%matplotlib inline\n",
    "n=1000\n",
    "e=0.01\n",
    "eps=0.001\n",
    "def y(x,i):\n",
    "    y=m.sin(x)*m.e**(-i*x)\n",
    "    return y\n",
    "def I(i):\n",
    "    A=[0]\n",
    "    dx=0.05\n",
    "    I=0\n",
    "    j=0\n",
    "    k=0\n",
    "    delta=1\n",
    "    while delta>e:\n",
    "        k+=1\n",
    "        I+=(y(j+dx,i)+y(j,i))/2*dx\n",
    "        j+=dx\n",
    "        A.append(I)\n",
    "        delta=abs((A[k]-A[k-1])/A[k])\n",
    "    b=j\n",
    "    J=I\n",
    "    I=0\n",
    "    A=[J]\n",
    "    delta=1\n",
    "    Integr=1\n",
    "    j=0\n",
    "    k=0\n",
    "    while delta>e:\n",
    "        k+=1\n",
    "        while j<b+dx:\n",
    "            I+=dx*(y(j+dx,i)+y(j,i))/2\n",
    "            j+=dx\n",
    "        A.append(I)\n",
    "        delta=2*abs((A[k]-A[k-1])/A[k-1])\n",
    "        dx*=0.5\n",
    "    return (I)\n",
    "B=[I(i) for i in range (0,n)]\n",
    "A=np.zeros((n,n))\n",
    "for k in range(0,n):\n",
    "    for l in range(0,n):\n",
    "        A[k,l]=-((l+1)*(l+1)*(l+1)*m.sin(l+1)/(1+(k+1)*(k+1)))\n",
    "        if k==l:\n",
    "            A[k,l]+=n*n*n*n\n",
    "X=np.ones((n))\n",
    "X*=0.0000000000000174\n",
    "D=B-np.dot(A,X)\n",
    "a=1\n",
    "k=0\n",
    "Xnorm=[np.dot(X,X)]\n",
    "while a>eps:\n",
    "    k+=1\n",
    "    a=0\n",
    "    t=(np.dot(np.dot(A,D),D))/(np.dot(np.dot(A,D),np.dot(A,D)))\n",
    "    X+=t*D\n",
    "    D=B-np.dot(A,X)\n",
    "    a=abs(D[1]/X[1])>eps\n",
    "    Xnorm.append(np.dot(X,X))\n",
    "Xn=np.linalg.solve(A,B)\n",
    "alfa=920\n",
    "print(\"Метод минимальной незязки: Х(\",alfa,\")=\",X[alfa])\n",
    "print(\"Функция linalg.solve: Х(\",alfa,\")=\",Xn[alfa])\n",
    "iter=range(0,k+1)\n",
    "print(\"количество итераций k=\",k)"
   ]
  },
  {
   "cell_type": "code",
   "execution_count": 43,
   "metadata": {
    "collapsed": false
   },
   "outputs": [
    {
     "data": {
      "image/png": "[encoded data removed]",
      "text/plain": [
       "<matplotlib.figure.Figure at 0x39a7a3e080>"
      ]
     },
     "metadata": {},
     "output_type": "display_data"
    },
    {
     "data": {
      "image/png": "[encoded data removed]",
      "text/plain": [
       "<matplotlib.figure.Figure at 0x39a79b6208>"
      ]
     },
     "metadata": {},
     "output_type": "display_data"
    },
    {
     "data": {
      "image/png": "[encoded data removed]",
      "text/plain": [
       "<matplotlib.figure.Figure at 0x39a7a0bcc0>"
      ]
     },
     "metadata": {},
     "output_type": "display_data"
    }
   ],
   "source": [
    "plt.plot(iter,Xnorm)\n",
    "plt.xlabel('iteration')\n",
    "plt.ylabel('Norma')\n",
    "plt.grid()\n",
    "plt.show()\n",
    "plt.figure()\n",
    "number=range(0,n)\n",
    "plt.plot(number,np.log10(X))\n",
    "plt.xlabel('i')\n",
    "plt.ylabel('Num Method')\n",
    "plt.grid()\n",
    "plt.show()\n",
    "plt.plot(number,np.log10(Xn))\n",
    "plt.xlabel('i')\n",
    "plt.ylabel('Linalg.solve')\n",
    "plt.grid()\n",
    "plt.show()"
   ]
  }
 ],
 "metadata": {
  "anaconda-cloud": {},
  "kernelspec": {
   "display_name": "Python [Root]",
   "language": "python",
   "name": "Python [Root]"
  },
  "language_info": {
   "codemirror_mode": {
    "name": "ipython",
    "version": 3
   },
   "file_extension": ".py",
   "mimetype": "text/x-python",
   "name": "python",
   "nbconvert_exporter": "python",
   "pygments_lexer": "ipython3",
   "version": "3.5.2"
  }
 },
 "nbformat": 4,
 "nbformat_minor": 0
}
