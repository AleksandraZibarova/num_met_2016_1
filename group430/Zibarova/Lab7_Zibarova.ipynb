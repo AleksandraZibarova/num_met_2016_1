{
 "cells": [
  {
   "cell_type": "markdown",
   "metadata": {},
   "source": [
    "                    Нижегородский государственный университет имени Н. И. Лобачевского\n",
    "\n",
    "                                          Радиофизический факультет\n",
    "\n",
    "                                            Кафедра математики\n",
    "  \n",
    "\n",
    "####                                                                                                 Отчет по лабораторной работе \"Задача Коши\"\n",
    "                                              \n",
    "                                                 Вариант 2\n",
    "                                                                                  \n",
    "                                                                                  \n",
    "                                                                                  \n",
    "                                                                                  \n",
    "                                                                               Выполнила: Зибаова Александра, 430 гр.\n",
    "                                                                               Проверил: Шиндин А. В.\n",
    "\n",
    "                                         Нижний Новгород, 2016 год."
   ]
  },
  {
   "cell_type": "markdown",
   "metadata": {},
   "source": [
    "###  Содержание\n",
    "1. Постановка задачи\n",
    "2. Цели работы\n",
    "3. Описание используемых алгоритмов\n",
    "4. Исходный код программы\n",
    "5. Результаты работы программы\n",
    "6. Анализ результатов \n",
    "\n",
    "###   1. Постановка задачи.\n",
    "1. Решить с помощью неявной схемы Роте с коэффициентами $\\alpha=\\frac{1}{3}$, $\\beta=\\frac{2}{3}$ задачу Коши с относительной точностью 0,01\n",
    "$$y''-y'-y=sinx$$\n",
    "$$y(0)=0,\\; y(1)=0$$\n",
    "$$x\\in[0,2]$$\n",
    "\n",
    "\n",
    "2. Обеспечить работу программы с системой дифференциальных уравнений в режиме \"черного ящика\"\n",
    "\n",
    "3. Найти точное решение, сравнить найденное решение с точным\n",
    "\n",
    "4. Найти решение с помощью метода Рунге-Кутты кратности 4-5\n"
   ]
  },
  {
   "cell_type": "markdown",
   "metadata": {},
   "source": [
    "###   3. Описание используемых алгоритмов\n",
    "Для поиска решения задачи Коши дифференциальное уравнение необходимо свести к системе уравнений вида\n",

    "где $y(x)\\equiv (y_1(x),y_2(x),\\dots,y_s(x)),\\;y^0$ - заданный начальный вектор.\n",
    "В ходе решения ищется последовательность векторов $\\lbrace{y_n}\\rbrace_{n=0}^N$, которые являются приближенными для значений решения $\\lbrace{y(x_n)}\\rbrace_{n=0}^N$ на множестве точек сетки $\\omega\\equiv\\lbrace{x_i:\\; x_{i+1}=x_i+h_i,\\;i=\\overline{0,N-1},\\;x_0=a,x_N=b}\\rbrace$, где $h_i>0$ - шаг сетки (в этой работе рассматривалась сетка с постоянным шагом $h_i\\equiv h$)$$\\\\$$\n",
    "Поставленная задача эквивалентна решению интегрального уравнения $$y(x)=y^0+\\int_{0}^{x} f(x,y(x))dx\\\\$$\n",
    "#### 3.1 Поиск решения дифференциального уравнения с помощью схемы Роте\n",
    "Bнтеграла вычисляется по квадратурной формуле трапеций с весами\n",
    "$$y_{i+1}=y_i+h(\\alpha f(x_i,y_i)+(1-\\alpha)f(x_{i+1},y_{i+1}))$$\n",
    "$$y_0=y(0),\\;i=\\overline{0,N-1},\\;\\alpha\\in[0,1]$$\n",
    "#### 3.2 Поиск решения дифференциального уравнения с помощью метода Рунге-Кутты\n",
    "Зная решение в точке $x_i$, можно построить решение в точке  $x_{i+1}$ с помощью разложения в ряд Тейлора.\n",
    "$$y(x_{i+1})=y(x_i)+y'(x_i)+\\frac{h}{2}y''(x_i)+\\dots$$\n",
    "Тогда, если вычисление ряда оборвать на р-ом члене и заменить точное значение $y(x_i)$ на приближенное $y_i$, то получится алгоритм\n",
    "$$y_{i+1}=y_i+h\\varphi(x_i,y_i,h),\\; i=\\overline{0,N-1}$$\n",
    "$$\\varphi(x_i,y_i,h)=f(t,y)+\\frac{h}{2}f'(t,y)+\\dots+\\frac{h^{p-1}}{(p-1)!}f^{(p-1)}(t,y)$$\n",
    "Строя разное количество слагаемых ряда Тейлора, можно получить m-кратный метод Рунге-Кутты. В них\n",
    "$$\\varphi(x_i,y_i,h)=\\sum_{r=1}^m c_r k_r,$$ где $с_r$ подбираются, чтоб $\\varphi(x_i,y_i,h)$ была наиболее близка к ряду Тейлора, и\n",
    "$$k_1=f(x,y)$$\n",
    "$$k_r=f(t+ha_r,y+\\sum_{s=1}^{r-1}b_{rs}k_s)$$\n",
    "В  частности, для четурехкратного метода Рунге-Кутты:\n",
    "$$k_1=f(x_i,y_i)$$\n",
    "$$k_2=f(x_i+\\frac{h}{2}),y_i+\\frac{1}{2}hk_1$$\n",
    "$$k_3=f(x_i+\\frac{h}{2}),y_i+\\frac{1}{2}hk_2$$\n",
    "$$k_4=f(x_i+h),y_i+hk_3$$\n",
    "\n"
   ]
  },
  {
   "cell_type": "markdown",
   "metadata": {},
   "source": [
    "###   4. Исходный код программы"
   ]
  },
  {
   "cell_type": "code",
   "execution_count": 1,
   "metadata": {
    "collapsed": true
   },
   "outputs": [],
   "source": [
    "import matplotlib.pyplot as plt\n",
    "import numpy as np\n",
    "import math\n",
    "import numpy.linalg as lin\n",
    "%matplotlib inline "
   ]
  },
  {
   "cell_type": "markdown",
   "metadata": {},
   "source": [
    "####   4. 1 Задание системы, к которой предварительно сведено уравнение"
   ]
  },
  {
   "cell_type": "code",
   "execution_count": 2,
   "metadata": {
    "collapsed": true
   },
   "outputs": [],
   "source": [
    "def F(Y,x):\n",
    "    F0=np.zeros((2))\n",
    "    def f1(Y,x):\n",
    "        return Y[1]\n",
    "    def f2(Y,x):\n",
    "        return math.sin(x)+Y[0]-Y[1]\n",
    "    F0[0]=f1(Y,x)\n",
    "    F0[1]=f2(Y,x)\n",
    "    return F0\n",
    "Fn=np.zeros((2))\n",
    "Fn[0]=0; Fn[1]=0\n",
    "Eps=10**(-2)"
   ]
  },
  {
   "cell_type": "markdown",
   "metadata": {},
   "source": [
    "####   4. 2 Точное решение системы"
   ]
  },
  {
   "cell_type": "code",
   "execution_count": 3,
   "metadata": {
    "collapsed": false
   },
   "outputs": [],
   "source": [
    "def ftochn(x):\n",
    "    return -0.1236*math.exp(-1.618*x)+0.3236*math.exp((-1+5**0.5)*x/2)-0.4*math.sin(x)-0.2*math.cos(x)\n",
    "def fproizv(x):\n",
    "    return 0.2*math.exp(-1.618*x)+0.2*math.exp((-1+5**0.5)*x/2)-0.4*math.cos(x)+0.2*math.sin(x)"
   ]
  },
  {
   "cell_type": "code",
   "execution_count": 4,
   "metadata": {
    "collapsed": false,
    "scrolled": false
   },
   "outputs": [
    {
     "data": {
      "image/png": "[encoded data removed]",
      "text/plain": [
       "<matplotlib.figure.Figure at 0x51525d0>"
      ]
     },
     "metadata": {},
     "output_type": "display_data"
    }
   ],
   "source": [
    "xpodst = np.arange(0, 2, 0.01)\n",
    "ffunk=[ftochn(l) for l in xpodst]\n",
    "fpr=[fproizv(l) for l in xpodst]\n",
    "plt.plot(ffunk,fpr)\n",
    "plt.title('tochnoye resheniye')\n",
    "plt.grid()\n",
    "plt.show()"
   ]
  },
  {
   "cell_type": "markdown",
   "metadata": {
    "collapsed": false
   },
   "source": [
    "####   4. 3 Реализация схемы Роте"
   ]
  },
  {
   "cell_type": "code",
   "execution_count": 5,
   "metadata": {
    "collapsed": false
   },
   "outputs": [],
   "source": [
    "aint=0; bint=2\n",
    "\n",
    "def Rote(nint):\n",
    "    Xresh=[]\n",
    "    Yresh=np.zeros((nint+1,2))\n",
    "    a0=aint; t000=0\n",
    "    for i in range (0,nint+1):\n",
    "        xi=aint+i*(bint-aint)/nint\n",
    "        if i==0:\n",
    "            ui=Fn\n",
    "            Yresh[i,0]=ui[0]\n",
    "            Yresh[i,1]=ui[1]\n",
    "        else:\n",
    "            def yravn1(uil):\n",
    "                return uil-(ui+(bint-aint)/nint*((1/3)*F(ui,aint+(i-1)*(bint-aint)/nint)+(2/3)*F(uil,xi)))\n",
    "            a=ui-0.7; b=ui+0.7; eps=0.0001; e=(a+b)/2    \n",
    "            StepH=0; a=ui-100; b=ui+100; eps=0.001\n",
    "            r1=a\n",
    "            r2=b\n",
    "            while lin.norm(r2-r1)>=eps:\n",
    "                r2=r1\n",
    "                r1=r2-(yravn1(r2)/(yravn1(b)-yravn1(r2)))*(b-r2)\n",
    "                StepH+=1    \n",
    "            ui=r2\n",
    "            Yresh[i,0]=ui[0]\n",
    "            Yresh[i,1]=ui[1]\n",
    "        Xresh.append(xi)\n",
    "    return Yresh"
   ]
  },
  {
   "cell_type": "markdown",
   "metadata": {
    "collapsed": true
   },
   "source": [
    "####   4. 3 \"Черный ящик\" для схемы Роте"
   ]
  },
  {
   "cell_type": "code",
   "execution_count": 10,
   "metadata": {
    "collapsed": false
   },
   "outputs": [],
   "source": [
    "def Rote_Black(F,Fn,Eps,aint,bint):\n",
    "    def RoteS(F,Fn,nint,aint,bint):\n",
    "        Xresh=[]\n",
    "        Yresh=np.zeros((nint+1,len(Fn)))\n",
    "        a0=aint; t000=0\n",
    "        for i in range (0,nint+1):\n",
    "            xi=aint+i*(bint-aint)/nint\n",
    "            if i==0:\n",
    "                ui=Fn\n",
    "                for k in range (0,len(Fn)):\n",
    "                    Yresh[i,k]=ui[k]\n",
    "            else:\n",
    "                def yravn1(uil):\n",
    "                    return uil-(ui+(bint-aint)/nint*((1/3)*F(ui,aint+(i-1)*(bint-aint)/nint)+(2/3)*F(uil,xi)))\n",
    "                a=ui-(bint-aint)/nint; b=ui+(bint-aint)/nint; eps=0.00001; e=(a+b)/2    \n",
    "                StepH=0;\n",
    "                r1=a\n",
    "                r2=b\n",
    "                while lin.norm(r2-r1)>=eps:\n",
    "                    r2=r1\n",
    "                    r1=r2-(yravn1(r2)/(yravn1(b)-yravn1(r2)))*(b-r2)\n",
    "                    StepH+=1    \n",
    "                ui=r2\n",
    "                for k in range (0,len(Fn)):\n",
    "                    Yresh[i,k]=ui[k]\n",
    "            Xresh.append(xi)\n",
    "        return Yresh\n",
    "    nrk=20\n",
    "    L=abs(lin.norm(RoteS(F,Fn,nrk-1,aint,bint))-lin.norm(RoteS(F,Fn,nrk,aint,bint)))\n",
    "    while L>=Eps:\n",
    "        nrk=nrk*2\n",
    "        L=abs(lin.norm(RoteS(F,Fn,nrk-1,aint,bint))-lin.norm(RoteS(F,Fn,nrk,aint,bint)))\n",
    "    return RoteS(F,Fn,nrk,aint,bint)\n",
    "  \n"
   ]
  },
  {
   "cell_type": "markdown",
   "metadata": {},
   "source": [
    "####   4. 5 Реализация метода Рунге-Кутты"
   ]
  },
  {
   "cell_type": "code",
   "execution_count": 7,
   "metadata": {
    "collapsed": false
   },
   "outputs": [],
   "source": [
    "#Метод Рунге-Кутты#\n",
    "def RK(F,Fn,nint,aint,bint):\n",
    "        Xresh=[]\n",
    "        Yresh=np.zeros((nint+1,2))\n",
    "        a0=aint; t000=0\n",
    "        for i in range (0,nint+1):\n",
    "            xi=aint+i*(bint-aint)/nint\n",
    "            Xresh.append(xi)\n",
    "            if i==0:\n",
    "                ui=Fn\n",
    "                Yresh[i,0]=ui[0]\n",
    "                Yresh[i,1]=ui[1]\n",
    "            else:\n",
    "                k1=F(ui,xi)\n",
    "                k2=F(ui+(bint-aint)*k1/2/nint,xi+(bint-aint)/2/nint)\n",
    "                k3=F(ui+(bint-aint)*k2/2/nint,xi+(bint-aint)/2/nint)\n",
    "                k4=F(ui+(bint-aint)*k3/nint,xi+(bint-aint)/nint)            \n",
    "                ui1=ui+(bint-aint)/6/nint*(k1+2*k2+2*k3+k4)\n",
    "                Yresh[i,0]=ui1[0]\n",
    "                Yresh[i,1]=ui1[1]\n",
    "                ui=ui1\n",
    "        return Yresh\n",
    " \n",
    "\n",
    "\n"
   ]
  },
  {
   "cell_type": "markdown",
   "metadata": {},
   "source": [
    "####   4. 6 \"Черный ящик\" для метода Рунге-Кутты"
   ]
  },
  {
   "cell_type": "code",
   "execution_count": 9,
   "metadata": {
    "collapsed": false
   },
   "outputs": [],
   "source": [
    "#Черный ящик метод Рунге-Куты#\n",
    "def R_K(F,Fn,Eps,aint,bint):\n",
    "    def RKin(F,Fn,nint,aint,bint):\n",
    "        Xresh=[]\n",
    "        Yresh=np.zeros((nint+1,len(Fn)))\n",
    "        a0=aint; t000=0\n",
    "        for i in range (0,nint+1):\n",
    "            xi=aint+i*(bint-aint)/nint\n",
    "            Xresh.append(xi)\n",
    "            if i==0:\n",
    "                ui=Fn\n",
    "                for k in range (0,len(Fn)):\n",
    "                    Yresh[i,k]=ui[k]\n",
    "            else:\n",
    "                k1=F(ui,xi)\n",
    "                k2=F(ui+(bint-aint)*k1/2/nint,xi+(bint-aint)/2/nint)\n",
    "                k3=F(ui+(bint-aint)*k2/2/nint,xi+(bint-aint)/2/nint)\n",
    "                k4=F(ui+(bint-aint)*k3/nint,xi+(bint-aint)/nint)            \n",
    "                ui1=ui+(bint-aint)/6/nint*(k1+2*k2+2*k3+k4)\n",
    "                for k in range (0,len(Fn)):\n",
    "                    Yresh[i,k]=ui1[k]\n",
    "                ui=ui1\n",
    "        return Yresh\n",
    "    nrk=20\n",
    "    L=abs(lin.norm(RKin(F,Fn,nrk-1,aint,bint))-lin.norm(RKin(F,Fn,nrk,aint,bint)))\n",
    "    while L>=Eps:\n",
    "        nrk=nrk*2\n",
    "        L=abs(lin.norm(RKin(F,Fn,nrk-1,aint,bint))-lin.norm(RKin(F,Fn,nrk,aint,bint)))\n",
    "    return RKin(F,Fn,nrk,aint,bint) \n"
   ]
  },
  {
   "cell_type": "markdown",
   "metadata": {},
   "source": [
    "###   5. Результат работы программы\n",
    "####   5. 1 Результат работы схемы Роте, сравнение с точным решением и результатом, полученным с помощью метода Рунге-Кутты"
   ]
  },
  {
   "cell_type": "code",
   "execution_count": 11,
   "metadata": {
    "collapsed": false
   },
   "outputs": [
    {
     "name": "stdout",
     "output_type": "stream",
     "text": [
      "48 - дробление отрезка для схемы Роте 0.0097908189458 - относительная точность в схеме\n",
      "44 - дробление отрезка для метода Рунге-Кутты 0.0097710215348 - относительная точность в методе\n"
     ]
    },
    {
     "data": {
      "image/png": "[encoded data removed]",
      "text/plain": [
       "<matplotlib.figure.Figure at 0x5317eb0>"
      ]
     },
     "metadata": {},
     "output_type": "display_data"
    }
   ],
   "source": [
    "#для схемы Роте#\n",
    "nint=2\n",
    "L=abs(lin.norm(Rote(nint-1))-lin.norm(Rote(nint)))/lin.norm(Rote(nint))\n",
    "while L>=Eps:\n",
    "    nint=nint+2\n",
    "    L=abs(lin.norm(Rote(nint-1))-lin.norm(Rote(nint)))/lin.norm(Rote(nint))\n",
    "print(nint,'- дробление отрезка для схемы Роте',L,'- относительная точность в схеме') \n",
    "Y2=Rote(nint)\n",
    "x2=[]; y2=[]\n",
    "for i in range(0,nint):\n",
    "    x2.append(Y2[i,0])\n",
    "    y2.append(Y2[i,1])\n",
    "#для метода Рунге-Кутты#    \n",
    "nrk=2\n",
    "L=abs(lin.norm(RK(F,Fn,nrk-1,0,2))-lin.norm(RK(F,Fn,nrk,0,2)))/lin.norm(RK(F,Fn,nrk,0,2))\n",
    "while L>=Eps:\n",
    "    nrk=nrk+2\n",
    "    L=abs(lin.norm(RK(F,Fn,nrk-1,0,2))-lin.norm(RK(F,Fn,nrk,0,2)))/lin.norm(RK(F,Fn,nrk,0,2))\n",
    "print(nrk,'- дробление отрезка для метода Рунге-Кутты' ,L,'- относительная точность в методе' ) \n",
    "Y1=RK(F,Fn,nrk,0,2)\n",
    "x1=[]; y1=[]\n",
    "for i in range(0,nrk):\n",
    "    x1.append(Y1[i,0])\n",
    "    y1.append(Y1[i,1])    \n",
    "plt.plot(x2,y2)\n",
    "plt.plot(x1,y1)\n",
    "plt.plot(ffunk,fpr)\n",
    "plt.grid()\n",
    "plt.legend(('Rote', 'RK','tochnoye resh'))\n",
    "plt.show()\n",
    " "
   ]
  },
  {
   "cell_type": "code",
   "execution_count": 12,
   "metadata": {
    "collapsed": false
   },
   "outputs": [
    {
     "name": "stdout",
     "output_type": "stream",
     "text": [
      " - сравнение значений функции с её точными значениями для такой сетки, при которой необходимая точность достигается в обоих методах\n"
     ]
    },
    {
     "data": {
      "image/png": "[encoded data removed]",
      "text/plain": [
       "<matplotlib.figure.Figure at 0x53571f0>"
      ]
     },
     "metadata": {},
     "output_type": "display_data"
    },
    {
     "name": "stdout",
     "output_type": "stream",
     "text": [
      "5.45215951556e+12 - разница с точным решением значений функции в методе Рунге-Кутты\n",
      "5.45215951556e+12 - разница с точным решением значений функции для схемы Роте\n",
      " - сравнение значений производной функции с её точными значениями для такой сетки, при которой необходимая точность достигается в обоих методах\n"
     ]
    },
    {
     "data": {
      "image/png": "[encoded data removed]",
      "text/plain": [
       "<matplotlib.figure.Figure at 0x56b1f50>"
      ]
     },
     "metadata": {},
     "output_type": "display_data"
    },
    {
     "name": "stdout",
     "output_type": "stream",
     "text": [
      "3.36969067711e+12 - разница с точным решением значений функции в методе Рунге-Кутты\n",
      "3.3696906771e+12 - разница с точным решением значений функции для схемы Роте\n"
     ]
    }
   ],
   "source": [
    "Yprov1=Rote(50); Yprov2=RK(F,Fn,50,0,2)\n",
    "xprov = np.arange(0, 2, 0.04)\n",
    "\n",
    "f_Rote=[Yprov1[l,0]-ftochn(l) for l in range (0,50)]\n",
    "fpr_Rote=[Yprov1[l,1]-fproizv(l) for l in range (0,50)]\n",
    "f_RK=[Yprov2[l,0]-ftochn(l) for l in range (0,50)]\n",
    "fpr_RK=[Yprov2[l,1]- -fproizv(l)for l in range (0,50)]\n",
    "print(' - сравнение значений функции с её точными значениями для такой сетки, при которой необходимая точность достигается в обоих методах')\n",
    "plt.plot(xprov,f_Rote)\n",
    "plt.plot(xprov,f_RK)\n",
    "plt.legend(('Rote', 'RK'))\n",
    "plt.show()\n",
    "print(lin.norm(f_RK),'- разница с точным решением значений функции в методе Рунге-Кутты')\n",
    "print(lin.norm(f_Rote),'- разница с точным решением значений функции для схемы Роте')\n",
    "\n",
    "print(' - сравнение значений производной функции с её точными значениями для такой сетки, при которой необходимая точность достигается в обоих методах')\n",
    "plt.plot(xprov,fpr_Rote)\n",
    "plt.plot(xprov,fpr_RK)\n",
    "plt.legend(('Rote', 'RK'))\n",
    "plt.show()\n",
    "print(lin.norm(fpr_RK),'- разница с точным решением значений функции в методе Рунге-Кутты')\n",
    "print(lin.norm(fpr_Rote),'- разница с точным решением значений функции для схемы Роте')"
   ]
  },
  {
   "cell_type": "code",
   "execution_count": null,
   "metadata": {
    "collapsed": true
   },
   "outputs": [],
   "source": [
    "plt.plot(f_tochn-f_Rote,xprov)\n",
    "plt.plot(f_tochn-f_RK,xprov)"
   ]
  },
  {
   "cell_type": "markdown",
   "metadata": {},
   "source": [
    "####   5.2 Проверка работы \"Черных ящиков\"\n",
    "$\\;\\;\\;\\;\\;\\;$ **- Для задачи Коши из задания**"
   ]
  },
  {
   "cell_type": "code",
   "execution_count": 13,
   "metadata": {
    "collapsed": false
   },
   "outputs": [
    {
     "name": "stdout",
     "output_type": "stream",
     "text": [
      "график демонстрирует совпадение решения, полученного с помощью \"черных ящиков\" друг с другом и с точным решением\n"
     ]
    },
    {
     "data": {
      "image/png": "[encoded data removed]",
      "text/plain": [
       "<matplotlib.figure.Figure at 0x519f6d0>"
      ]
     },
     "metadata": {},
     "output_type": "display_data"
    }
   ],
   "source": [
    "\n",
    "Y4=Rote_Black(F,Fn,0.01,0,2)\n",
    "x4=[]; y4=[]\n",
    "for i in range(0,len(Y4)-1):\n",
    "    x4.append(Y4[i,0])\n",
    "    y4.append(Y4[i,1])  \n",
    "Y3=R_K(F,Fn,0.01,0,2)\n",
    "x3=[]; y3=[]\n",
    "for i in range(0,len(Y3)-1):\n",
    "    x3.append(Y3[i,0])\n",
    "    y3.append(Y3[i,1])\n",
    "print('график демонстрирует совпадение решения, полученного с помощью \"черных ящиков\" друг с другом и с точным решением')    \n",
    "plt.plot(x3,y3)\n",
    "plt.plot(x4,y4)\n",
    "plt.plot(ffunk,fpr)\n",
    "plt.legend(('Rote', 'RK','tochnoye resh' ))\n",
    "plt.grid()\n",
    "plt.show()    \n"
   ]
  },
  {
   "cell_type": "markdown",
   "metadata": {},
   "source": [
    "$\\;\\;\\;\\;\\;\\;$ **- Для произвольных задач Коши**"
   ]
  },
  {
   "cell_type": "code",
   "execution_count": 14,
   "metadata": {
    "collapsed": false
   },
   "outputs": [
    {
     "name": "stdout",
     "output_type": "stream",
     "text": [
      "график демонстрирует совпадение решения, полученного с помощью \"черных ящиков\" друг с другом\n"
     ]
    },
    {
     "data": {
      "image/png": "[encoded data removed]",
      "text/plain": [
       "<matplotlib.figure.Figure at 0x530ba70>"
      ]
     },
     "metadata": {},
     "output_type": "display_data"
    }
   ],
   "source": [
    "def F1(Y,x):\n",
    "    F0=np.zeros((2))\n",
    "    def f11(Y,x):\n",
    "        return Y[1]\n",
    "    def f21(Y,x):\n",
    "        return math.cos(20*x)+2*Y[0]-8*Y[1]\n",
    "    F0[0]=f11(Y,x)\n",
    "    F0[1]=f21(Y,x)\n",
    "    return F0\n",
    "Fn1=np.zeros((2))\n",
    "Fn1[0]=1; Fn1[1]=0\n",
    "Eps1=10**(-2)\n",
    "Y5=Rote_Black(F1,Fn1,Eps1,0,1)\n",
    "x5=[]; y5=[]\n",
    "for i in range(0,len(Y5)-1):\n",
    "    x5.append(Y5[i,0])\n",
    "    y5.append(Y5[i,1])  \n",
    "Y6=R_K(F1,Fn1,Eps1,0,1)\n",
    "x6=[]; y6=[]\n",
    "for i in range(0,len(Y6)-1):\n",
    "    x6.append(Y6[i,0])\n",
    "    y6.append(Y6[i,1])\n",
    "print('график демонстрирует совпадение решения, полученного с помощью \"черных ящиков\" друг с другом')    \n",
    "plt.plot(x6,y6)\n",
    "plt.plot(x5,y5)\n",
    "plt.legend(('Rote', 'RK', ))\n",
    "plt.grid()\n",
    "plt.show()    \n"
   ]
  },
  {
   "cell_type": "markdown",
   "metadata": {},
   "source": [
    "$\\;\\;\\;\\;\\;\\;$ **- Для системы уравнений 1-ого порядка**"
   ]
  },
  {
   "cell_type": "code",
   "execution_count": 18,
   "metadata": {
    "collapsed": false
   },
   "outputs": [
    {
     "name": "stdout",
     "output_type": "stream",
     "text": [
      "график демонстрирует совпадение решения, полученного с помощью \"черных ящиков\" друг с другом\n"
     ]
    },
    {
     "data": {
      "image/png": "[encoded data removed]",
      "text/plain": [
       "<matplotlib.figure.Figure at 0x671c930>"
      ]
     },
     "metadata": {},
     "output_type": "display_data"
    }
   ],
   "source": [
    "def F2(Y,x):\n",
    "    F0=np.zeros((4))\n",
    "    def f20(Y,x):\n",
    "        return Y[1]\n",
    "    def f21(Y,x):\n",
    "        return Y[2]\n",
    "    def f22(Y,x):\n",
    "        return Y[3]\n",
    "    def f23(Y,x):\n",
    "        return x*math.exp(5*x)+x+x**2+Y[0]-Y[1]-Y[2]+Y[3]\n",
    "    F0[0]=f20(Y,x); F0[1]=f21(Y,x); F0[2]=f22(Y,x); F0[3]=f23(Y,x)\n",
    "    return F0\n",
    "Fn2=np.zeros((4))\n",
    "Fn2[0]=1; Fn2[1]=-1; Fn2[2]=1; Fn2[3]=-2\n",
    "Eps2=10**(-2)\n",
    "Y7=Rote_Black(F2,Fn2,Eps2,0,0.5)\n",
    "x7=[]; y7=[]\n",
    "for i in range(0,len(Y7)-1):\n",
    "    x7.append(Y7[i,0])\n",
    "    y7.append(Y7[i,1])  \n",
    "Y8=R_K(F2,Fn2,Eps2,0,0.5)\n",
    "x8=[]; y8=[]\n",
    "for i in range(0,len(Y8)-1):\n",
    "    x8.append(Y8[i,0])\n",
    "    y8.append(Y8[i,1])\n",
    "print('график демонстрирует совпадение решения, полученного с помощью \"черных ящиков\" друг с другом')    \n",
    "plt.plot(x7,y7)\n",
    "plt.plot(x8,y8)\n",
    "plt.legend(('Rote', 'RK', ))\n",
    "plt.grid()\n",
    "plt.show() "
   ]
  },
  {
   "cell_type": "markdown",
   "metadata": {},
   "source": [
    "###   6. Анализ результатов\n",
    "* И схема Роте, и метод Рунге-Кутты позволяют получить решение задачи Коши, совпадающее с точным решением. Но метод Рунге-Кутты (при одинаковой точности, заданной для обоих методов) приводит к решению за меньшее количество шагов. \n",
    "* Для наглядности сравнения полученных результатов с точным решением отрезок был разбит на (возможно меньшее) число частей, но так, чтоб при решении обоими методами необходимая точность для предложенной задачи была достигнута. Видно, что оба метода отличаются от точного решения на величину порядка $10^{-12}$, причем наибольшее расхождение с точным решением происходит в конце отрезка. Это вполне логично, так как при пошаговом поиске значений функций и производной ошибка накапливается и с каждым шагом становится все заметнее. \n",
    "* Видно, что метод Рунге-Кутты завышает значение производной, а метод Роте, напротив, занижает, тогда как значение функции завышают они оба. Но оба метода позволяют найти лишь приближенное решение, так что подобное расхождение допустимо и в схеме Роте объясняется ошибкой при вычислении интеграла, а в методе Рунге-Кутты - тем, что отброшены слагаемые высоких порядков в ряде Тейлора. \n",
    "* Написанные в работе \"черные ящики\" позволяют решать уравнения и более высоких порядков. Совпадение решений, полученных разными \"черными ящиками\", говорит об их корректности. "
   ]
  },
  {
   "cell_type": "code",
   "execution_count": null,
   "metadata": {
    "collapsed": true
   },
   "outputs": [],
   "source": []
  }
 ],
 "metadata": {
  "anaconda-cloud": {},
  "kernelspec": {
   "display_name": "Python [Root]",
   "language": "python",
   "name": "Python [Root]"
  },
  "language_info": {
   "codemirror_mode": {
    "name": "ipython",
    "version": 3
   },
   "file_extension": ".py",
   "mimetype": "text/x-python",
   "name": "python",
   "nbconvert_exporter": "python",
   "pygments_lexer": "ipython3",
   "version": "3.5.2"
  }
 },
 "nbformat": 4,
 "nbformat_minor": 0
}
