{
 "cells": [
  {
   "cell_type": "markdown",
   "metadata": {},
   "source": [
    "                        Нижегородский государственный университет имени Н. И. Лобачевского\n",
    "\n",
    "                                          Радиофизический факультет\n",
    "\n",
    "                                            Кафедра математики\n",
    "                                            \n",
    "####                 Отчет по лабораторной работе \"Численное решение систем линейных уравнений, численное интегрирование\"\n",
    "\n",
    "                                              \n",
    "                                                 Вариант 14\n",
    "                                                                                  \n",
    "                                                                                  \n",
    "                                                                                  \n",
    "                                                                                  \n",
    "                                                                          Выполнил: Котов А.в , 430 гр.\n",
    "                                          \n",
    "                                                                          Проверил: Шиндин А. В.\n",
    "\n",
    "                                         Нижний Новгород, 2016 год."
   ]
  },
  {
   "cell_type": "markdown",
   "metadata": {},
   "source": [
    "### Дана система:\n",
    "$$n^3x_{i}=\\sum \\limits_{j=0}^n {\\frac {1+j+j^2} {1+j+i^2}x_j} +\\int ln \\left (10+i+exp(-i*t)\\right) \\,dt, i=2,\\cdots,n$$"
   ]
  },
  {
   "cell_type": "markdown",
   "metadata": {},
   "source": [
    "###   1) Задача.\n",
    "1. Выбрать свой вариант системы (номер варианта остается с предыдущей лабораторной работы). Кроме самой системы в варианте должны быть указаны:\n",
    " * число уравнений системы\n",
    " * требуемый метод/методы решения системы\n",
    " * необходимая относительная точность решения системы\n",
    " * требуемый метод вычисления интеграла\n",
    " * необходимая относительная точность вычисления интеграла (если не указана, то брать — 0,01).\n",
    "\n",
    "2.  Вычислить определенный интеграл двумя методами\n",
    " * Заданным методом\n",
    " * С помощью функции numpy.trapz(…), графически провести сравнение с результатами предыдущего метода. Разницу объяснить.\n",
    "\n",
    "3. Построить график подынтегральной функции, а также график зависимости значения интеграла от номера итерации предлагаемого метода численного интегрирования.\n",
    "\n",
    "4. Решить систему заданным методом \n",
    " * Для 1000 уравнений\n",
    " * Для 10000 уравнений\n",
    "\n",
    "5. Построить график решения X(i), а также график зависимости нормы решения от номера итерации предлагаемого метода численного решения системы.\n",
    "\n",
    "6. Решить систему с помощью функции numpy.linalg.solve(…). Результат графически сравнить с решением, полученным в пункте 4. Разницу объяснить.\n",
    "\n",
    "###   2) Цель работы:\n",
    "* Освоить методы численного интегрирования. Вычислить определенный интеграл с использованием **формулы Буля** с относительной точностью **0,01**\n",
    "* Научиться численно решать системы линейных уравнений. Решение систему из 1000 и 10000 уравнений **методом релаксации**  с относительной точностью **0,01**."
   ]
  },
  {
   "cell_type": "markdown",
   "metadata": {},
   "source": [
    "## 1.\n",
    "Вычислить определенный интеграл заданным методом. \n",
    "Построить график подынтегральной функции, а также график зависимости\n",
    "значения интеграла от номера итерации предлагаемого метода численного\n",
    "интегрирования."
   ]
  },
  {
   "cell_type": "markdown",
   "metadata": {},
   "source": [
    "Предположим, что интегрируемая функция принадлежит классу $C[α,β]$\n",
    "и задана сетка $ω_n$ отрезка $[α, β]$. Для получения весовых коэффициентов\n",
    "квадратурных формул используем следующую процедуру. Рассмотрим за\n",
    "дачу, обратную к задаче дискретизации, т.е. задачу восстановления эле\n",
    "мента $f ∈ H[α,β]$ по заданной сеточной функции $f_n ∈ Rn$. Из общей теории\n",
    "известно, что данная задача имеет не единственное решение и наиболее\n",
    "просто решается при помощи интерполяционных многочленов, если имеет\n",
    "ся априорная информация о гладкости искомых функции."
   ]
  },
  {
   "cell_type": "markdown",
   "metadata": {},
   "source": [
    "Формула Буля (n = 4)\n",
    "$$\\sum _{{k=0}}^{4}C_{k}f_{k}(x)=\\frac{α-β}{90}(7f(α)+32f(\\frac{3α+β}{4}+12f(\\frac{α+β}{2}+32f(\\frac{α+3β}{4}+7f(β)) $$"
   ]
  },
  {
   "cell_type": "markdown",
   "metadata": {},
   "source": [
    "## График подынтегральной функции"
   ]
  },
  {
   "cell_type": "code",
   "execution_count": 7,
   "metadata": {
    "collapsed": true
   },
   "outputs": [],
   "source": [
    "%matplotlib inline\n",
    "import matplotlib\n",
    "matplotlib.rc('font', family='Verdana')\n",
    "import matplotlib.pyplot as plt\n",
    "from numpy import log,exp,linalg,log10\n",
    "import numpy as np\n",
    "def f(t,i):\n",
    "    return log(10+i+exp(-i*t))\n",
    "a=1\n",
    "b=5\n",
    "n=100"
   ]
  },
  {
   "cell_type": "code",
   "execution_count": 8,
   "metadata": {
    "collapsed": false,
    "scrolled": false
   },
   "outputs": [
    {
     "data": {
      "text/plain": [
       "[<matplotlib.lines.Line2D at 0x1a304bda470>]"
      ]
     },
     "execution_count": 8,
     "metadata": {},
     "output_type": "execute_result"
    },
    {
     "data": {
      "image/png": "[encoded data removed]",
      "text/plain": [
       "<matplotlib.figure.Figure at 0x1a3047da2b0>"
      ]
     },
     "metadata": {},
     "output_type": "display_data"
    }
   ],
   "source": [
    "#i=int(input())\n",
    "i=3\n",
    "def g(t):\n",
    "    return log(10+i+exp(-i*t))\n",
    "t=np.linspace(a,b)\n",
    "y=g(t)\n",
    "plt.title('График подынтегральной функции')\n",
    "plt.grid(True)\n",
    "plt.ylabel('f(x)')\n",
    "plt.xlabel('x')\n",
    "plt.plot(t,y)"
   ]
  },
  {
   "cell_type": "markdown",
   "metadata": {},
   "source": [
    "## График зависимости значения интеграла от номера итерации предлагаемого метода численного интегрирования"
   ]
  },
  {
   "cell_type": "code",
   "execution_count": 9,
   "metadata": {
    "collapsed": false,
    "scrolled": false
   },
   "outputs": [
    {
     "name": "stdout",
     "output_type": "stream",
     "text": [
      "График зависимости значения интеграла от номера итерации предлагаемого метода численного интегрирования\n"
     ]
    },
    {
     "data": {
      "image/png": "[encoded data removed]",
      "text/plain": [
       "<matplotlib.figure.Figure at 0x1a2d2b233c8>"
      ]
     },
     "metadata": {},
     "output_type": "display_data"
    }
   ],
   "source": [
    "#i=int(input())\n",
    "i=3\n",
    "k=4\n",
    "u=10\n",
    "g=0\n",
    "Inte=np.zeros((u,1))\n",
    "for g in range(u):\n",
    "    #k=k/(u+1)\n",
    "    In=0\n",
    "    a=1\n",
    "    h=int((b-a)/k)\n",
    "    for j in range (h): \n",
    "        p=(k/90)*(7*f(a,i+1)+32*f((3*a+(a+k))/4,i+1)+12*f((a+(a+k))/2,i+1)+32*f((a+3*(a+k))/4,i+1)+7*f(a+k,i+1))\n",
    "        In+=p\n",
    "        a=(a+k)\n",
    "    Inte[g][0]=In\n",
    "    #if (Inte[g][0]-Inte[g-1][0])/Inte[g][0]<0.01:        \n",
    "        #print(k)\n",
    "        #break \n",
    "    k=k/2\n",
    "#print(y)\n",
    "#print(Inte)\n",
    "print('График зависимости значения интеграла от номера итерации предлагаемого метода численного интегрирования')\n",
    "plt.grid(True)\n",
    "plt.ylabel('значение интеграла')\n",
    "plt.xlabel('итерация')\n",
    "plt.plot(Inte)   \n",
    "a=1"
   ]
  },
  {
   "cell_type": "markdown",
   "metadata": {},
   "source": [
    "# Задание 3+"
   ]
  },
  {
   "cell_type": "markdown",
   "metadata": {},
   "source": [
    "## Вычисление определенного интеграла с помощью функции numpy.trapz(…)."
   ]
  },
  {
   "cell_type": "code",
   "execution_count": 11,
   "metadata": {
    "collapsed": false,
    "scrolled": false
   },
   "outputs": [
    {
     "data": {
      "text/plain": [
       "[<matplotlib.lines.Line2D at 0x1a304c235f8>]"
      ]
     },
     "execution_count": 11,
     "metadata": {},
     "output_type": "execute_result"
    },
    {
     "data": {
      "image/png": "[encoded data removed]",
      "text/plain": [
       "<matplotlib.figure.Figure at 0x1a304cc9320>"
      ]
     },
     "metadata": {},
     "output_type": "display_data"
    }
   ],
   "source": [
    "inte=np.zeros((u,1))\n",
    "c=np.zeros((u,1))\n",
    "z=4\n",
    "i=3\n",
    "for hj in range(100): \n",
    "    for j in np.arange(u):\n",
    "        t=np.linspace(a,b,2*hj)\n",
    "        inte[j]=np.trapz(f(t,i+1),t)\n",
    "    #c[j][0]=Inte[j][0]-inte[j][0]\n",
    "        z=z/2\n",
    "#print(inte)\n",
    "plt.grid(True)\n",
    "plt.title('Графическое сравнение ')\n",
    "plt.ylabel('значение интеграла')\n",
    "plt.xlabel('итерация')\n",
    "plt.plot(inte-Inte)\n",
    "#plt.show()\n",
    "# plt.plot(Inte)\n",
    "#plt.show()\n",
    "#print('Разница')\n",
    "#plt.plot(c)\n"
   ]
  },
  {
   "cell_type": "markdown",
   "metadata": {},
   "source": [
    "# Задание №4"
   ]
  },
  {
   "cell_type": "markdown",
   "metadata": {},
   "source": [
    "Среди явных одношаговых итерационных методов наибольшее распространение получил метод верхних релаксаций. Это связано с тем, что метод верхних релаксаций содержит свободный параметрw , изменяя который можно получать различную скорость сходимости итерационного процесса.\n",
    "Наиболее эффективно этот метод применяется при решении множества близких алгебраических систем линейных уравнений. На первом этапе проводится решение одной из систем с различными значениями итерационного параметраw и из анализа скорости сходимости итерационного процесса выбирается оптимальное значение этого параметра. Затем все остальные системы решаются с выбранным значением $w$ .\n",
    "\\begin{matrix}\n",
    "a_{11}x_1 + \\ldots + a_{1n}x_n  =  b_1\\\\\n",
    "a_{21}x_1 + \\ldots + a_{2n}x_n =  b_2\\\\\n",
    "  \\ldots  \\\\\n",
    "a_{n1}x_1 + \\ldots + a_{nn}x_n  =  b_n\\\\\n",
    "\\end{matrix}\n",
    "приводится к виду\n",
    "\\begin{matrix}\n",
    "x_1 + b_{12}x_2 + \\ldots + b_{1n}x_n + c_1  =  0\\\\\n",
    "  \\ldots  \\\\\n",
    "b_{n1}x_1 + b_{n2}x_2 + \\ldots + x_n + c_n  =  0\\\\\n",
    "\\end{matrix}\n",
    "После вычисления iй компоненты $k+1$ приближения метода Зейделя $$x_{i}^{{(k+1)}}=c_{{i1}}x_{{1}}^{{(k)}}+c_{{i2}}x_{{2}}^{{(k)}}+c_{{i3}}x_{{3}}^{{(k)}}+...+d_{1}$$\n",
    "Производится дополнительное смещение этой компоненты на \n",
    "$$ (w-1)(x_{i}^{(k+1)}-x_{i}^{(k)}) $$\n",
    "Таким образом\n",
    "$$X^{{(k+1)}}=(1-w)X^{{(k)}}+wB_1X^{{(k+1)}}+wB_2X^{{(k)}}+wI$$\n",
    "Вычисление $B_1$ и $B_2$"
   ]
  },
  {
   "cell_type": "code",
   "execution_count": 12,
   "metadata": {
    "collapsed": false,
    "scrolled": true
   },
   "outputs": [],
   "source": [
    "I=np.zeros((n,1))\n",
    "In=0\n",
    "for i in range (n):\n",
    "    while a<b:\n",
    "        k=2\n",
    "        In+=(k/90)*(7*f(a,i+1)+32*f((3*a+(a+k))/4,i+1)+12*f((a+(a+k))/2,i+1)+32*f((a+3*(a+k))/4,i+1)+7*f(a+k,i+1))\n",
    "        a=(a+k)\n",
    "        #print(In)\n",
    "    I[i]=In\n",
    "    In=0\n",
    "    a=1\n",
    "#plt.plot(I)\n",
    "#print(I)\n",
    "a=1\n",
    "b1=np.zeros((n,n))\n",
    "b2=np.zeros((n,n))\n",
    "for i in range (n):\n",
    "    for j in range (n):\n",
    "        if i<j:\n",
    "            b1[i][j]=(1/(n**3-1))*((1+j+1+(j+1)**2)/(1+j+1+(i+1)**2))\n",
    "        if i>j:\n",
    "            b2[i][j]=(1/(n**3-1))*((1+j+1+(j+1)**2)/(1+j+1+(i+1)**2))\n",
    "#np.set_printoptions(linewidth=1000,suppress=True,precision=6)\n",
    "#print(b1)\n",
    "#print('==============================================================================================================')\n",
    "#print(b2)"
   ]
  },
  {
   "cell_type": "markdown",
   "metadata": {},
   "source": [
    "## Решение системы уравнений"
   ]
  },
  {
   "cell_type": "code",
   "execution_count": 13,
   "metadata": {
    "collapsed": false,
    "scrolled": true
   },
   "outputs": [
    {
     "name": "stdout",
     "output_type": "stream",
     "text": [
      "10\n",
      "[  1.00000000e+00   1.54012452e-01   2.37114228e-02   3.65545717e-03\n",
      "   5.70384094e-04   9.61129153e-05   2.32444331e-05   1.20547990e-05\n",
      "   1.03374210e-05   1.00739700e-05   1.00335751e-05   0.00000000e+00\n",
      "   0.00000000e+00   0.00000000e+00   0.00000000e+00]\n"
     ]
    },
    {
     "data": {
      "text/plain": [
       "[<matplotlib.lines.Line2D at 0x1a280010dd8>]"
      ]
     },
     "execution_count": 13,
     "metadata": {},
     "output_type": "execute_result"
    },
    {
     "data": {
      "image/png": "[encoded data removed]",
      "text/plain": [
       "<matplotlib.figure.Figure at 0x1a304b57e80>"
      ]
     },
     "metadata": {},
     "output_type": "display_data"
    }
   ],
   "source": [
    "l=15\n",
    "#w=int(input())\n",
    "X=np.zeros((n,l))\n",
    "x=np.zeros((n,1))\n",
    "w=0.85\n",
    "for p in range (n):\n",
    "    X[p][0]=1\n",
    "for j in range (1,l):\n",
    "    for i in range (n):\n",
    "        u=0\n",
    "        v=0\n",
    "        for k in range (n):\n",
    "            if k>i:\n",
    "                v+=w*b1[i][k]*X[k][j-1]\n",
    "            if k<i:\n",
    "                u+=w*b2[i][k]*X[k][j]  \n",
    "        X[i][j]=(1-w)*X[i][j-1]+w*I[i]/(n**3-1)+u+v             \n",
    "    if abs(X[i][j]-X[i][j-1])/(X[i][j])<0.01 :\n",
    "        l=j\n",
    "        print(l)\n",
    "        for k in range (i+1):\n",
    "            x[k][0]=X[k][j]\n",
    "        break\n",
    "#print(X)\n",
    "#print(x)\n",
    "print(X[1])\n",
    "plt.grid(True)\n",
    "plt.title('Значение x от его номера')\n",
    "plt.ylabel('Значение x')\n",
    "plt.xlabel('номер x')\n",
    "plt.plot(x)"
   ]
  },
  {
   "cell_type": "markdown",
   "metadata": {},
   "source": [
    "## Решение системы уравнений с помощью numpy.linalg.solve"
   ]
  },
  {
   "cell_type": "code",
   "execution_count": 14,
   "metadata": {
    "collapsed": false,
    "scrolled": true
   },
   "outputs": [
    {
     "name": "stdout",
     "output_type": "stream",
     "text": [
      "График разности значений x(посчианных встроенной функцией) и х(посчитанных программой)\n"
     ]
    },
    {
     "data": {
      "text/plain": [
       "[<matplotlib.lines.Line2D at 0x1a280078748>]"
      ]
     },
     "execution_count": 14,
     "metadata": {},
     "output_type": "execute_result"
    },
    {
     "data": {
      "image/png": "[encoded data removed]",
      "text/plain": [
       "<matplotlib.figure.Figure at 0x1a304c19240>"
      ]
     },
     "metadata": {},
     "output_type": "display_data"
    }
   ],
   "source": [
    "b=np.zeros((n,n))\n",
    "b=-b1-b2\n",
    "for j in range (n):\n",
    "    b[j][j]=1\n",
    "#print(I/(n**3-1))\n",
    "ar=np.zeros((n,1))\n",
    "ar=np.linalg.solve(b,I/(n**3-1))\n",
    "R=np.zeros((n,1))\n",
    "R=ar-x\n",
    "print('График разности значений x(посчианных встроенной функцией) и х(посчитанных программой)')\n",
    "plt.grid(True)\n",
    "plt.plot(R)"
   ]
  },
  {
   "cell_type": "markdown",
   "metadata": {},
   "source": [
    "##  График зависимости нормы решения от номера итерации предлагаемого метода численного решения системы."
   ]
  },
  {
   "cell_type": "code",
   "execution_count": 15,
   "metadata": {
    "collapsed": false,
    "scrolled": true
   },
   "outputs": [
    {
     "name": "stdout",
     "output_type": "stream",
     "text": [
      "Норма: 0.000159964086866\n"
     ]
    },
    {
     "data": {
      "text/plain": [
       "[<matplotlib.lines.Line2D at 0x1a2802e59e8>]"
      ]
     },
     "execution_count": 15,
     "metadata": {},
     "output_type": "execute_result"
    },
    {
     "data": {
      "image/png": "[encoded data removed]",
      "text/plain": [
       "<matplotlib.figure.Figure at 0x1a304c35a58>"
      ]
     },
     "metadata": {},
     "output_type": "display_data"
    }
   ],
   "source": [
    "j=l\n",
    "s=np.zeros(j)\n",
    "q=np.zeros(j)\n",
    "M=np.transpose(X)\n",
    "#print(M)\n",
    "y=np.linalg.norm(np.transpose(ar))\n",
    "for i in range (j):\n",
    "    s[i]=np.linalg.norm(np.transpose(M[i+1]))\n",
    "    q[i]=y\n",
    "plt.grid(True)\n",
    "plt.plot(s)\n",
    "print('Норма:',y)\n",
    "#plt.show()\n",
    "plt.plot(q)"
   ]
  },
  {
   "cell_type": "markdown",
   "metadata": {
    "collapsed": true
   },
   "source": [
    "## Для n=10000"
   ]
  },
  {
   "cell_type": "code",
   "execution_count": 4,
   "metadata": {
    "collapsed": true
   },
   "outputs": [],
   "source": [
    "%matplotlib inline\n",
    "import matplotlib\n",
    "matplotlib.rc('font', family='Verdana')\n",
    "from numpy import log,exp,linalg\n",
    "import matplotlib.pyplot as plt\n",
    "import numpy as np\n",
    "def f(t,i):\n",
    "    return log(10+i+exp(-i*t))\n",
    "a=1\n",
    "b=5\n",
    "n=10000\n",
    "I=np.zeros((n,1))\n",
    "In=0\n",
    "for i in range (n):\n",
    "    while a<b:\n",
    "        k=2\n",
    "        In+=(k/90)*(7*f(a,i+1)+32*f((3*a+(a+k))/4,i+1)+12*f((a+(a+k))/2,i+1)+32*f((a+3*(a+k))/4,i+1)+7*f(a+k,i+1))\n",
    "        a=(a+k)\n",
    "        #print(In)\n",
    "    I[i]=In\n",
    "    In=0\n",
    "    a=1\n",
    "b1=np.zeros((n,n))\n",
    "b2=np.zeros((n,n))\n",
    "for i in range (n):\n",
    "    for j in range (n):\n",
    "        if i<j:\n",
    "            b1[i][j]=(1/(n**3-1))*((1+j+1+(j+1)**2)/(1+j+1+(i+1)**2))\n",
    "        if i>j:\n",
    "            b2[i][j]=(1/(n**3-1))*((1+j+1+(j+1)**2)/(1+j+1+(i+1)**2))"
   ]
  },
  {
   "cell_type": "code",
   "execution_count": 5,
   "metadata": {
    "collapsed": false
   },
   "outputs": [
    {
     "name": "stdout",
     "output_type": "stream",
     "text": [
      "1\n",
      "2\n",
      "3\n",
      "4\n",
      "4\n"
     ]
    },
    {
     "data": {
      "text/plain": [
       "[<matplotlib.lines.Line2D at 0x1a3047c1320>]"
      ]
     },
     "execution_count": 5,
     "metadata": {},
     "output_type": "execute_result"
    },
    {
     "data": {
      "image/png": "[encoded data removed]",
      "text/plain": [
       "<matplotlib.figure.Figure at 0x1a2d4ae65f8>"
      ]
     },
     "metadata": {},
     "output_type": "display_data"
    }
   ],
   "source": [
    "l=15\n",
    "#w=int(input())\n",
    "X=np.zeros((n,l))\n",
    "x=np.zeros((n,1))\n",
    "w=0.85\n",
    "for p in range (n):\n",
    "    X[p][0]=0\n",
    "for j in range (1,l):\n",
    "    for i in range (n):\n",
    "        u=0\n",
    "        v=0\n",
    "        for k in range (n):\n",
    "            if k>i:\n",
    "                v+=w*b1[i][k]*X[k][j-1]\n",
    "            if k<i:\n",
    "                u+=w*b2[i][k]*X[k][j]  \n",
    "        X[i][j]=(1-w)*X[i][j-1]+w*I[i]/(n**3-1)+u+v\n",
    "        x[i][0]=X[i][j]\n",
    "    print(j)\n",
    "    if abs(X[i][j]-X[i][j-1])/X[i][j]<0.01: \n",
    "        break\n",
    "#print(X)\n",
    "plt.title('Значение x от его номера')\n",
    "plt.ylabel('Значение x')\n",
    "plt.xlabel('номер x')\n",
    "plt.grid(True)\n",
    "print(j)\n",
    "plt.plot(x)"
   ]
  },
  {
   "cell_type": "code",
   "execution_count": null,
   "metadata": {
    "collapsed": true
   },
   "outputs": [],
   "source": []
  }
 ],
 "metadata": {
  "anaconda-cloud": {},
  "kernelspec": {
   "display_name": "Python [Root]",
   "language": "python",
   "name": "Python [Root]"
  },
  "language_info": {
   "codemirror_mode": {
    "name": "ipython",
    "version": 3
   },
   "file_extension": ".py",
   "mimetype": "text/x-python",
   "name": "python",
   "nbconvert_exporter": "python",
   "pygments_lexer": "ipython3",
   "version": "3.5.2"
  }
 },
 "nbformat": 4,
 "nbformat_minor": 0
}
