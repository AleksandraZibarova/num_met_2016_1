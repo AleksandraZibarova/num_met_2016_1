{
 "cells": [
  {
   "cell_type": "markdown",
   "metadata": {},
   "source": [
    "                          Нижегородский государственный университет имени Н. И. Лобачевского\n",
    "\n",
    "                                          Радиофизический факультет\n",
    "\n",
    "                                            Кафедра математики\n",
    "                                            \n",
    "\n",
    "####                 Отчет по лабораторной работе \"Численное решение систем линейных уравнений, численное интегрирование\"\n",
    "                                              \n",
    "                                              Вариант 9\n",
    "                                                                                  \n",
    "                                                                                  \n",
    "                                                                                  \n",
    "                                                                                  \n",
    "                                                                                  Выполнила: Емельянова Анастасия, 430 гр.\n",
    "                                                                                  Проверил: Шиндин А. В.\n",
    "\n",
    "                                          Нижний Новгород, 2016 год.\n",
    "                                    "
   ]
  },
  {
   "cell_type": "markdown",
   "metadata": {},
   "source": [
    "### Содержание\n",
    "1. Постановка задачи.\n",
    "2. Описание используемых алгоритмов.\n",
    "3. Исходный код программы. Результаты работы программы.\n",
    "4. Анализ результатов."
   ]
  },
  {
   "cell_type": "markdown",
   "metadata": {},
   "source": [
    "#### 1. Постановка задачи.\n",
    "1. Выбрать свой вариант системы (номер варианта остается с предыдущей лабораторной работы). Кроме самой системы в варианте должны быть указаны:\n",
    " * число уравнений системы\n",
    " * требуемый метод/методы решения системы\n",
    " * необходимая относительная точность решения системы\n",
    " * требуемый метод вычисления интеграла\n",
    " * необходимая относительная точность вычисления интеграла (если не указана, то брать — 0,01).\n",
    "\n",
    "2.  Вычислить определенный интеграл заданным методом.\n",
    "\n",
    "3. Построить график подынтегральной функции, а также график зависимости значения интеграла от номера итерации предлагаемого метода численного интегрирования.\n",
    "\n",
    "3+. (+2 балла) Вычислить определенный интеграл с помощью функции numpy.trapz(…). Результат графически сравнить с результатом из пункта 2. Разницу объяснить.\n",
    "\n",
    "4. Решить систему заданным методом (взять число уравнений n=1000)\n",
    "\n",
    "4+. (+2 балла) Решить систему заданным методом (взять число уравнений n=10000)\n",
    "\n",
    "5. Построить график решения X(i), а также график зависимости нормы решения от номера итерации предлагаемого метода численного решения системы.\n",
    "\n",
    "5+. (+2 балла) Решить систему с помощью функции numpy.linalg.solve(…). Результат графически сравнить с решением, полученным в пункте 3. Разницу объяснить."
   ]
  },
  {
   "cell_type": "markdown",
   "metadata": {},
   "source": [
    "*Система уравнений:*\n",
    "$$n^2x_i=\\sum_{j=1}^n\\frac 1 {1+i^2}*j*sin(j)*x_j + \\int_{0}^{\\infty} sin(t)*e^{-i*t}\\,dt,   i=\\bar{1,n} $$ \n",
    "*Метод решения системы:* метод наискорейшего спуска.\n",
    "\n",
    "*Относительная точность решения системы $\\epsilon_c=0.001$*\n",
    "\n",
    "*Метод вычисления интеграла:* метод 3/8.\n",
    "\n",
    "*Относительная точность вычисления интеграла:* $\\epsilon_i=0.01$"
   ]
  },
  {
   "cell_type": "markdown",
   "metadata": {},
   "source": [
    "#### 2. Описание используемых алгоритмов.\n"
   ]
  },
  {
   "cell_type": "markdown",
   "metadata": {},
   "source": [
    "**2.1. Вычисление определенного интеграла методом 3/8.**\n",
    "Используется интерполяционный многочлен Лагранжа. В результате подстановки получается:\n",
    "$$\\int_{a}^{b} f(x)\\,dt=\\sum_{k=0}^nC_k^{(n)}f(x_k^{(n)})+R_n[f],$$ где\n",
    "$$C_k^{(n)}=\\int_a^b \\prod_{i=0,i\\ne k}^n {\\frac {x-x_i^{(n)}} {x_k^{(n)}-x_i^{(n)}}} \\,dx$$\n",
    "$$R_n[f]=\\frac {f^{(n+1)}(\\zeta)} {(n+1)!} \\int_a^b\\prod_{i=0}^n (x-x_i^{(n)}) \\,dx$$\n",
    "**В квадратурной формуле 3/8:**\n",
    "$$\\sum_{k=0}^3 C_k^{(3)}f(x_k^{(3)})=\\frac {\\beta-\\alpha} 8 (f(\\alpha)+3f(\\frac {2\\alpha+\\beta} 3) + 3f(\\frac {\\alpha+2\\beta} 3)+f(\\beta))$$\n",
    "$$R_3[f]\\le max_{x\\in [\\alpha,\\beta]} |f^{(4)}(x)| \\frac {(\\alpha-\\beta)^5} {6480}$$"
   ]
  },
  {
   "cell_type": "markdown",
   "metadata": {},
   "source": [
    "**2.2. Решение системы методом наискорейшего спуска**\n",
    "\n",
    "Как правило, для итерационного (приближенного) метода решения СЛУ существует такая последовательность невырожденных матриц $$H_k, k=1,2,...,$$ что правило построения элементов итерационной последовательности записывается в виде: \n",
    "$$x^{k+1}=x^k-H_k(Ax^k-b),$$ или\n",
    "$$ x^{k+1}=T_kx^k+H_kb,$$\n",
    "где $T_k=E-H_kE, E$- единичная матрица. \n",
    "\n",
    "При этом $\\varphi^k=x^k-x_0$ - *вектор ошибки*, $r^k=Ax^k-b$ - *вектор невязки*.\n",
    "\n",
    "Критерий окончания итерационного процесса при заданной степени точности $\\epsilon$:\n",
    "$$||x^k-x^{k-1}||\\eqslantless\\epsilon*\\frac{1-||T||} {||T||}$$\n",
    "\n",
    "***Метод наискорейшего спуска:***\n",
    "\n",
    "Здесь $$H_k=\\tau_kE,$$ $$T_k=E-\\tau_kA$$\n",
    "Параметр $\\tau_k$ выбирается из условия ортогональности невязок на соседних шагах метода и имеет вид: $$\\tau_k=\\frac{(r^k,r^k)} {(Ar^k,r^k)}$$\n",
    "Итерационный процесс имеет вид:\n",
    "$$x^{k+1}=(E-\\tau_kA)x^k+\\tau_kEb$$"
   ]
  },
  {
   "cell_type": "markdown",
   "metadata": {},
   "source": [
    "**3. Исходный код программы. Результат работы программы. **"
   ]
  },
  {
   "cell_type": "code",
   "execution_count": 1,
   "metadata": {
    "collapsed": true
   },
   "outputs": [],
   "source": [
    "import numpy as np\n",
    "import matplotlib.pyplot as plt\n",
    "import math\n",
    "import array\n",
    "import numpy.linalg as lin\n",
    "%matplotlib inline"
   ]
  },
  {
   "cell_type": "code",
   "execution_count": 2,
   "metadata": {
    "collapsed": false
   },
   "outputs": [
    {
     "name": "stdout",
     "output_type": "stream",
     "text": [
      "Введите номер уравнения: 1000\n",
      "0.019069999666666258\n",
      "Значение интеграла:  8.36119484809e-07\n",
      "Число итераций:  5\n",
      "Значение интеграла, посчитанное автоматически методом трапеций:  5.49793402458e-07\n",
      "Разность между ними:  2.86326082351e-07\n",
      "График подинтегральной функции:\n"
     ]
    },
    {
     "data": {
      "image/png": "[encoded data removed]",
      "text/plain": [
       "<matplotlib.figure.Figure at 0x7743eb8>"
      ]
     },
     "metadata": {},
     "output_type": "display_data"
    },
    {
     "name": "stdout",
     "output_type": "stream",
     "text": [
      "Значение интеграла методом 3/8 от числа итераций:\n"
     ]
    },
    {
     "data": {
      "image/png": "[encoded data removed]",
      "text/plain": [
       "<matplotlib.figure.Figure at 0x77bba90>"
      ]
     },
     "metadata": {},
     "output_type": "display_data"
    },
    {
     "name": "stdout",
     "output_type": "stream",
     "text": [
      "Значение интеграла, вычисленного trapz, от числа итераций:\n"
     ]
    },
    {
     "data": {
      "image/png": "[encoded data removed]",
      "text/plain": [
       "<matplotlib.figure.Figure at 0x7bd36a0>"
      ]
     },
     "metadata": {},
     "output_type": "display_data"
    }
   ],
   "source": [
    "ei=0.01\n",
    "def f(t,i): \n",
    "    return math.sin(t)*math.e**(-i*t)\n",
    "i=int(input('Введите номер уравнения: '))\n",
    "a=0; b=6\n",
    "itm=np.zeros(10000)\n",
    "Integ=0\n",
    "Ins=0\n",
    "D = np.zeros(10000)\n",
    "it=1\n",
    "Integ=0\n",
    "t0=math.atan(1/(i))\n",
    "tp=t0\n",
    "while math.fabs(f(tp,i))>10**-10:\n",
    "    tp+=0.00001\n",
    "b=tp\n",
    "xn=np.arange(0,b,0.00001)\n",
    "yn=[f(x,i) for x in xn]\n",
    "xni=np.arange(0,b,b/it)\n",
    "yni=[f(x,i) for x in xni]\n",
    "for j in range (0,it):\n",
    "    u=0; v=b/it\n",
    "    u +=j/it\n",
    "    v +=j/it\n",
    "    Ins=(v-u)/8*(f(u,i)+3*f((2*u+v)/3,i)+3*f((u+2*v)/3,i)+f(v,i))\n",
    "    Integ+=Ins\n",
    "xni=np.arange(0,b,b/it)\n",
    "yni=[f(x,i) for x in xni]\n",
    "itm[it]=np.trapz(yni, x=None, dx=b/it)\n",
    "D[it]=Integ\n",
    "it=2\n",
    "Integ=0\n",
    "for j in range (0,it):\n",
    "    u=0; v=b/it\n",
    "    u +=j/it\n",
    "    v +=j/it\n",
    "    Ins=(v-u)/8*(f(u,i)+3*f((2*u+v)/3,i)+3*f((u+2*v)/3,i)+f(v,i))\n",
    "    Integ+=Ins\n",
    "xni=np.arange(0,b,b/it)\n",
    "yni=[f(x,i) for x in xni]\n",
    "itm[it]=np.trapz(yni, x=None, dx=b/it)\n",
    "D[it]=Integ\n",
    "while (D[it]-D[it-1])>D[it]*ei:\n",
    "    it+=1\n",
    "    Integ=0\n",
    "    for j in range (0,it):\n",
    "        u=0; v=b/it\n",
    "        u +=j/it\n",
    "        v +=j/it\n",
    "        Ins=(v-u)/8*(f(u,i)+3*f((2*u+v)/3,i)+3*f((u+2*v)/3,i)+f(v,i))\n",
    "        Integ+=Ins\n",
    "    xni=np.arange(0,b,b/it)\n",
    "    yni=[f(x,i) for x in xni]\n",
    "    itm[it]=np.trapz(yni, x=None, dx=b/it)\n",
    "    D[it]=Integ\n",
    "xni=np.arange(0,b,b/(it+1))\n",
    "yni=[f(x,i) for x in xni]\n",
    "itm[it+1]=np.trapz(yni, x=None, dx=b/(it+1))\n",
    "n=np.arange(0,it+1,1)\n",
    "In=[D[k] for k in n]\n",
    "Ischit=np.trapz(yni, x=None, dx=b/it)\n",
    "itmi=[itm[l+1] for l in n]\n",
    "print(b)\n",
    "print('Значение интеграла: ',D[it])\n",
    "print('Число итераций: ',it)\n",
    "print('Значение интеграла, посчитанное автоматически методом трапеций: ',Ischit)\n",
    "print('Разность между ними: ', abs(D[it]-Ischit))\n",
    "print('График подинтегральной функции:')\n",
    "plt.plot(xn, yn)\n",
    "plt.grid()\n",
    "plt.show()\n",
    "print('Значение интеграла методом 3/8 от числа итераций:')\n",
    "plt.plot(n,In,marker = '.',linestyle='None')\n",
    "plt.grid()\n",
    "plt.show()\n",
    "print('Значение интеграла, вычисленного trapz, от числа итераций:')\n",
    "plt.plot(n,itmi, marker='*',linestyle='None')\n",
    "plt.grid()\n",
    "plt.show()"
   ]
  },
  {
   "cell_type": "code",
   "execution_count": 3,
   "metadata": {
    "collapsed": false
   },
   "outputs": [
    {
     "name": "stdout",
     "output_type": "stream",
     "text": [
      "Введите число уравнений системы: 8000\n",
      "Введите номер строки 87\n",
      "Число итераций  3\n",
      "Решение  [[  7.78768185e-09]\n",
      " [  3.11199899e-09]\n",
      " [  1.54953545e-09]\n",
      " ..., \n",
      " [  1.92522818e-24]\n",
      " [  1.92468395e-24]\n",
      " [  1.92413994e-24]] \n",
      "\n",
      "Норма разности решения встроенной функцией и методом наискорейшего спуска 1.03488504455e-21\n",
      "time: 286.280887 sec\n",
      "График зависимости решения методом наискорейшего спуска от числа итераций:\n"
     ]
    },
    {
     "data": {
      "image/png": "[encoded data removed]",
      "text/plain": [
       "<matplotlib.figure.Figure at 0x7c5bfd0>"
      ]
     },
     "metadata": {},
     "output_type": "display_data"
    },
    {
     "name": "stdout",
     "output_type": "stream",
     "text": [
      "-8.97292615979e-10 2.35539536045e-14 2.35198816642e-14 0.0 0.0 0.0 0.0 0.0 0.0 0.0 0.0 0.0 0.0 0.0 0.0 0.0\n",
      "График зависимости решения встроенной функцией от числа итераций: \n"
     ]
    },
    {
     "data": {
      "image/png": "[encoded data removed]",
      "text/plain": [
       "<matplotlib.figure.Figure at 0x7770c88>"
      ]
     },
     "metadata": {},
     "output_type": "display_data"
    }
   ],
   "source": [
    "import time, sys\n",
    "n=int(input('Введите число уравнений системы: '))\n",
    "iv=int(input('Введите номер строки '))\n",
    "start = time.time()\n",
    "es=0.001\n",
    "E=np.eye(n)\n",
    "Ap=np.ones((n,n))\n",
    "X=np.ones((n,1))*5\n",
    "Xk=np.ones((n,1))*3\n",
    "B=np.ones((n,1))*2\n",
    "t=0\n",
    "b=6\n",
    "Ischit=np.ones((n,1))\n",
    "xn=np.arange(0,6,0.1)\n",
    "U=np.zeros(100)\n",
    "Tr=np.zeros(100)\n",
    "o = 0\n",
    "def f(t,k): \n",
    "    return math.sin(t)*math.e**(-k*t)\n",
    "for k in range (1,n+1):\n",
    "    yn=[f(t,k) for t in xn]\n",
    "    Ischit[k-1,0]=np.trapz(yn, x=None, dx=0.1)\n",
    "    for j in range (1,n+1):\n",
    "        Ap[k-1,j-1]=1/(1+k*k)*j*math.sin(j)\n",
    "        B[k-1,0]=-Ischit[k-1,0]\n",
    "A=Ap-n*n*E\n",
    "while lin.norm(Xk-X)/lin.norm(X)>es:\n",
    "    o+=1\n",
    "    X=Xk\n",
    "    r=np.dot(A,X)-B\n",
    "    ro=r.transpose()\n",
    "    t=np.dot(ro,r)/np.dot(ro,np.dot(A,r))\n",
    "    H=t*E\n",
    "    T=E-t*A\n",
    "    Xk=np.dot(T,X)+np.dot(H,B)\n",
    "    U[o-1]=Xk[iv,0]\n",
    "W=lin.solve(A,B)\n",
    "print('Число итераций ', o)\n",
    "print('Решение ', Xk,'\\n')\n",
    "print('Норма разности решения встроенной функцией и методом наискорейшего спуска',lin.norm(W-Xk))\n",
    "print ('time: %f' % (time.time() - start), 'sec')\n",
    "oo=np.arange(0,o+1,1)\n",
    "Ug=[U[o] for o in oo]\n",
    "plt.plot(oo,Ug, marker='o',linestyle='None')\n",
    "plt.xlabel('Number of iterations')\n",
    "plt.ylabel('Decision')\n",
    "plt.title('')\n",
    "plt.axis([-0.1, o+0.1, min(Ug), max(Ug)])\n",
    "plt.grid()\n",
    "print('График зависимости решения методом наискорейшего спуска от числа итераций:')\n",
    "plt.show()\n",
    "print(U[0],U[1],U[2],U[3],U[4],U[5],U[6],U[7],U[8],U[9],U[10],U[11],U[12],U[13],U[14],U[15])\n",
    "print('График зависимости решения встроенной функцией от числа итераций: ')\n",
    "Tr=[W[o] for o in oo]\n",
    "plt.plot(oo,Tr, marker='*',linestyle='None')\n",
    "plt.xlabel('Number of iterations')\n",
    "plt.ylabel('Decision')\n",
    "plt.title('')\n",
    "plt.axis([-0.1, o+0.1, min(Tr), max(Tr)])\n",
    "plt.grid()\n",
    "plt.show()"
   ]
  },
  {
   "cell_type": "markdown",
   "metadata": {},
   "source": [
    "**Анализ результатов и алгоритмов.**"
   ]
  },
  {
   "cell_type": "markdown",
   "metadata": {},
   "source": [
    "Значения интегралов совпадают по порядку и отличаются в среднем примерно в 2 раза, причем значение интеграла методом 3/8 больше. Это свидетельствует о большей точности этого метода, т. к. метод трапеций достаточно грубый и плохо учитывает быстрое спадание функции и все изгибы подинтегральной кривой.\n",
    "\n",
    "Решения системы методом наискорейшего спуска и встроенной функцией совпадают достаточно точно, для 8000 уравнений норма разности решения встроенной функцией и методом наискорейшего спуска составляет 1.03488504455^(-21). Решения в одной строке совпадают по порядку. "
   ]
  }
 ],
 "metadata": {
  "anaconda-cloud": {},
  "kernelspec": {
   "display_name": "Python [Root]",
   "language": "python",
   "name": "Python [Root]"
  },
  "language_info": {
   "codemirror_mode": {
    "name": "ipython",
    "version": 3
   },
   "file_extension": ".py",
   "mimetype": "text/x-python",
   "name": "python",
   "nbconvert_exporter": "python",
   "pygments_lexer": "ipython3",
   "version": "3.5.2"
  }
 },
 "nbformat": 4,
 "nbformat_minor": 0
}
