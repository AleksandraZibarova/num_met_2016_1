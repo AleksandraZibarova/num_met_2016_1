{
 "cells": [
  {
   "cell_type": "markdown",
   "metadata": {},
   "source": [
    "$${\\Large Лабораторная~работа~7} \\\\$$ \n",
    "\n",
    "$${\\Huge Задача~Коши} \\\\$$ \n",
    "\n",
    "$$   $$    \n",
    "$$  {\\normalsize  Вариант~№~23  } $$  \n",
    "$$   $$  \n",
    "$$   $$  \n",
    "$$   $$  \n",
    "    \n",
    "      \n",
    "        \n",
    "        \n",
    "\n",
    "\n",
    "  \n",
    "$$  {\\normalsize  Работу~  выполнил~   } \\\\$$     \n",
    "$$  {\\normalsize  студент ~ радиофизического ~ факультета} \\\\$$   \n",
    "$$  {\\normalsize  430 ~ группы } \\\\$$    \n",
    "$$  {\\normalsize  Смирнов ~ Андрей} \\\\$$      \n",
    "  \n",
    "  \n",
    "  \n",
    "\n",
    "#### Содержание работы :\n",
    "1. Задание\n",
    "2. Цель работы\n",
    "3. Решение системы ДУ заданным методом\n",
    "4. Решение системы ДУ методом Рунге_Кутты и нахождение точного решения\n",
    "5. Сравнение решений различными способами\n",
    "6. Вывод"
   ]
  },
  {
   "cell_type": "markdown",
   "metadata": {},
   "source": [
    "  "
   ]
  },
  {
   "cell_type": "markdown",
   "metadata": {},
   "source": [
    "$\\Large  \\underline{№ 1} ~~ {\\Large Задание} \\\\$ \n",
    "\n",
    "\n",
    "1.  Решить методом Тейлора 4-ого порядка задачу коши\n",
    "\n",
    "$$\\begin{cases}\n",
    "  y''' - 2y'' - 2y = cos(x)*e^{2x} ~~~~~~~~~ x\\in {[0;2]} \\\\\n",
    "  y(0) = 1,~y'(0) = 0,~y''(0) = 0\n",
    " \\end{cases}$$\n",
    "\n",
    "с заданной относительной точностью 0,01\n",
    "\n",
    "2. Найденное решение сравнить с решением по методу Рунге-Кутты кратности 4-5,а также точным решением \n",
    "\n",
    "3. Обеспечить работу программы с системой дифференциальных уравнений первого порядка в режиме «черного ящика» (black box).\n",
    "\n",
    "4. Вывод\n"
   ]
  },
  {
   "cell_type": "markdown",
   "metadata": {},
   "source": [
    "  "
   ]
  },
  {
   "cell_type": "markdown",
   "metadata": {},
   "source": [
    "$\\Large  \\underline{№ 2} ~~ {\\Large Цель~работы} \\\\$  \n",
    "\n",
    "Освоить методы решения задачи Коши. Численно найти её решение с относительной указанной точностью.Провести сравнение данного метода с методом Рунге-Кутты и точным решением\n"
   ]
  },
  {
   "cell_type": "markdown",
   "metadata": {},
   "source": [
    "  "
   ]
  },
  {
   "cell_type": "markdown",
   "metadata": {},
   "source": [
    "    "
   ]
  },
  {
   "cell_type": "markdown",
   "metadata": {},
   "source": [
    "$\\Large  \\underline{№ 3} ~~ {\\Large Решение~системы~ДУ~заданным~методом} \\\\$  \n",
    "\n",
    " Решить методом Тейлора 4-ого порядка задачу коши\n",
    "\n",
    "$$\\begin{cases}\n",
    "  y''' - 2y'' - 2y = cos(x)*e^{2x}~~~~~~~~~x\\in {[0;2]} \\\\\n",
    "  y(0) = 1,~y'(0) = 0,~y''(0) = 0\n",
    " \\end{cases}$$\n",
    "\n",
    "с заданной относительной точностью 0,01\n"
   ]
  },
  {
   "cell_type": "markdown",
   "metadata": {},
   "source": [
    "$$\\Large  {Теория:} \\\\$$  \n",
    "\n",
    "$\\normalsize   \\underline{Задача~Коши} \\\\$  \n",
    "** Основные методы построения разностных схем для задачи Коши**  \n",
    "Широкие классы задач физики, химии, биологии, экономики и др. сводятся к решению начально-краевых задач для систем обыкновенных\n",
    "дифференциальных уравнений. Считается, что приведение задачи к форме, например, задачи Коши является гарантией ее решения, хотя бы приближенного. Теория численного решения таких задач является одной из развитых областей вычислительной математики.  \n",
    "$~$ Нашей целью является обзор основных численных методов решения задачи Коши\n",
    "\n",
    "$$\\begin{cases}\n",
    "  y'(x) = f(x,y(x)) , x\\in {(a;b)}    ~~~~~~~~~~~~~~ (1)\\\\         \n",
    "  y(a) = y^{~0} \n",
    " \\end{cases}$$\n",
    " \n",
    " где  $y(x) = (y_1(x),y_2(x),...,y_s(x)), y^{~0} $ - заданный начальный вектор.\n",
    "\n",
    "$~$ При численном решении задачи (1) ищется последовательность векторов ${(y_n)^N}_{n=0}$ ,являющихся приближениями для значений решения  ${(y(x_n))^N}_{n=0}$  на множестве точек сетки $\\omega_n\\equiv(x_i : x_{i+1} = x_i + h_i,~i = 0,..N-1,~x_o = a,~x_N = b)$, где $ h_i > 0 $ - шаг сетки.В практике используются разнообразные сетки. Мы ограничимся рассмотрением методов с равномерными сетками, т.е. сетками с постоянным шагом $ h_i \\equiv h $Основное предположение относительно задачи (1), которое мы примем, состоит в непрерывности правой части дифференциального уравнения (вектор-функции $f(x,y(x))$ по совокупности переменных в $(a,b)*R^s$ и глобального (равномерного относительно x) условия Липшица по y :  \n",
    "  \n",
    "$$\\parallel f(x,y^1)~-~f(x,y^2)\\parallel ~ \\le ~ L \\parallel y^1~-~y^2\\parallel$$, где L - постоянная Липшища.В этих условиях решение задачи Коши (1) существует и единственно при любом начальном векторе $y^{~0} $.Заметим, что реализация конкретного численного метода и, в особенности,его обоснование требуют обычно более сильных ограничений на параметры задачи."
   ]
  },
  {
   "cell_type": "markdown",
   "metadata": {},
   "source": [
    "  "
   ]
  },
  {
   "cell_type": "markdown",
   "metadata": {},
   "source": [
    "$\\normalsize   \\underline{Метод~Разложения~в~ряд~Тейлора~} \\\\$  \n",
    "Простейшим способом построения приближенного решения в точке $x_{n+1}$ сетки $\\omega_n$ является способ, основанный на разложении решения в ряд Тейлора в предыдущей точке сетки $x_n$ по степеням шага h: \n",
    "\n",
    "$$y(x_{n+1}) = y(x_n) + h \\bigtriangleup(x_n,y_n,h)$$\n",
    "\n",
    "$$\\bigtriangleup(x_n,y_n,h) = y'(x) + \\frac{h}2y''(x)~+ ~ \\frac{h^{2}}{3!}y'''(x) + ~ ...$$\n",
    "\n",
    "Взяв вместо этого ряда конечный его отрезок\n",
    "\n",
    "$$\\varphi(x_n,y_n,h) = y'(x) + \\frac{h}2y''(x)~ + ~... ~+ ~\\frac{h^{~p-1}}{p!}(x)$$\n",
    "\n",
    "и заменяя в нем производные $y^{(k)}(x)$ в силу дифференциального уравнения (1)\n",
    "\n",
    "$$ y'(x) = f(x,y(x))$$\n",
    "$$ y''(x) = \\frac{d}{dx}f(x,y(x)) = f'_x + f'_yf$$\n",
    "$$ y'''(x) = \\frac{d}{dx}(f'_x + f'_yf) = f''_{xx} + f'_xf'_y + ((f'_y)^2 + 2f''_{xy})f + f''_{yy}f^2 , ..., $$\n",
    "\n",
    "получаем последовательность приближений\n",
    "$$y_{n+1} = y_n + h\\varphi(x_n,y_n,h) , ~~ n = 0,1,2,.. $$\n",
    "\n",
    "Алгоритмы типа (3) не требуют вычисления дополнительных начальных условий и позволяют легко менять шаг интегрирования. Применимость данных методов ограничена теми задачами, для которых легко вычисляются частные производные высоких порядков функции\n",
    "f(x,y)\n"
   ]
  },
  {
   "cell_type": "markdown",
   "metadata": {},
   "source": [
    "  \n",
    "  "
   ]
  },
  {
   "cell_type": "markdown",
   "metadata": {},
   "source": [
    "  \n",
    "  "
   ]
  },
  {
   "cell_type": "markdown",
   "metadata": {},
   "source": [
    "$$\\Large  {Реализация} \\\\$$  \n"
   ]
  },
  {
   "cell_type": "code",
   "execution_count": 66,
   "metadata": {
    "collapsed": false
   },
   "outputs": [],
   "source": [
    "from sympy import *\n",
    "import numpy as np\n",
    "import matplotlib.pyplot as plt\n",
    "\n",
    "def f(j,h,y):\n",
    "    #return [y[0][j] + exp(j*h)]   \n",
    "    #return [y[1][j],y[2][j],4*y[0][j] - sin(j*h)*exp(-j*h)]\n",
    "    return [y[1][j],y[2][j],2*y[1][j]+2*y[2][j]+cos(j*h)*exp(2*j*h)]\n",
    "    #return [y[1][j],16*y[0][j] - 16*y[1][j] + sin(4*j*h)*exp(j*h) ]\n",
    "    #return [y[1][j],exp(-3*j*h) - 2*y[1][j] - 3*y[0][j]]\n",
    "    \n",
    "    \n",
    "def sys():\n",
    "    #return [\"y0 + exp(u)\"]\n",
    "    #return [\"y1\",\"16*y0 - 16*y1 + sin(4*u)*exp(u)\"]\n",
    "    return [\"y1\",\"y2\",\"2*y1 + 2*y2 + cos(u)*exp(2*u)\"]\n",
    "    #return [\"y1\",\"y2\",\"4*y0 + 2*y2 + sin(u)*exp(-u)\"]\n",
    "    #return [\"y1\",\"exp(-3*u) - 2*y1 - 3*y0\"]\n",
    "\n",
    "\n",
    "def components():\n",
    "    u  = Symbol('u')\n",
    "    y0 = Symbol('y0')\n",
    "    y1 = Symbol('y1')\n",
    "    y2 = Symbol('y2')  \n",
    "    \n",
    "    #return [u,y0]\n",
    "    #return [u,y0,y1]\n",
    "    return [u,y0,y1,y2]\n",
    "\n",
    "\n",
    "def exact_solution(x):\n",
    "    return ((3/26 + sqrt(3)/78)*exp(x*sqrt(3)+x))/(1+sqrt(3)) + ((3/26 - sqrt(3)/78)*exp(-x*sqrt(3)+x))/(1 - sqrt(3)) - 8/65*np.cos(x)*exp(2*x)+1/65*exp(2*x)*np.sin(x)+6/5\n",
    "             \n",
    "x_for_exact_solution = np.linspace(0,2,800)\n",
    "y_exact = np.zeros(800)\n",
    "for i in range(0,len(x_for_exact_solution)):\n",
    "    y_exact[i] = exact_solution(x_for_exact_solution[i])\n",
    "#plt.plot(x,y)\n",
    "#plt.show()"
   ]
  },
  {
   "cell_type": "code",
   "execution_count": 67,
   "metadata": {
    "collapsed": false
   },
   "outputs": [],
   "source": [
    "def weer(f,components,x0,y0,s):\n",
    "    \n",
    "    def der(i,j):\n",
    "        return diff((sys())[i],(components())[j+1]) \n",
    "\n",
    "    def der_x(i,j):\n",
    "        return diff(diff((sys())[i],(components())[j+1]),(components())[0])\n",
    "\n",
    "    def der_2x(i,j):\n",
    "        return diff(diff(diff((sys())[i],(components())[j+1]),(components())[0]),(components())[0])\n",
    "\n",
    "    def zero(i,j):\n",
    "        return 0\n",
    "    \n",
    "    cl = len(components())\n",
    "    h = (x0[1]-x0[0])/s   # step\n",
    "    x = np.linspace(x0[0],x0[1],s)\n",
    "    n = len(y0)\n",
    "    y = np.zeros((n,s))\n",
    "    for i in range(0,n):\n",
    "        y[i][0] = y0[i]\n",
    "        \n",
    "    M_Ia = Matrix(cl-1,cl-1,der)                     \n",
    "    M_Ia_sh_x = Matrix(cl-1,cl-1,der_x)  \n",
    "    M_Ia_2sh_x = Matrix(cl-1,cl-1,der_2x)  \n",
    "    \n",
    "    f_sh_x = Matrix(cl-1,1,zero)\n",
    "    f_2sh_x = Matrix(cl-1,1,zero)\n",
    "    f_3sh_x = Matrix(cl-1,1,zero)\n",
    "   \n",
    "    for j in range(0,s-1):\n",
    "\n",
    "        y_prev = (y.T)[j]   \n",
    "        vf = Matrix(f(j,h,y))\n",
    "\n",
    "        for i in range(0,cl-1):\n",
    "            f_sh_x[i] = diff((sys())[i],(components())[0]).evalf(subs={(components())[0]:j*h})\n",
    "            f_2sh_x[i] = diff(diff((sys())[i],(components())[0]),(components())[0]).evalf(subs={(components())[0]:j*h})\n",
    "            f_3sh_x[i] = diff(diff(diff((sys())[i],(components())[0]),(components())[0]),(components())[0]).evalf(subs={(components())[0]:j*h})\n",
    "\n",
    "        y_2sh = f_sh_x + M_Ia*vf\n",
    "        y_3sh = f_2sh_x + M_Ia_sh_x*vf+M_Ia*f_sh_x\n",
    "        y_4sh = f_3sh_x + M_Ia_2sh_x*vf + M_Ia_sh_x * f_sh_x + M_Ia * f_2sh_x + M_Ia_sh_x*f_sh_x\n",
    "\n",
    "        y_next = y_prev + h*vf + h*h/2 * y_2sh + h*h*h/6 *y_3sh + h*h*h*h/24 *y_4sh\n",
    "\n",
    "        for i in range(0,n):\n",
    "            y[i][j+1] = y_next[i]\n",
    "     \n",
    "    return y[0],y[1]\n",
    "    #plt.plot(x,y[0])\n",
    "    #plt.show()"
   ]
  },
  {
   "cell_type": "code",
   "execution_count": 108,
   "metadata": {
    "collapsed": false
   },
   "outputs": [],
   "source": [
    "def final_func(f,components,x0,y0,eps):\n",
    "    s = 400\n",
    "    \n",
    "    while(1>0):\n",
    "\n",
    "        y1 = (weer(f,components,x0,y0,s))[0]\n",
    "        y2,y_sh = weer(f,components,x0,y0,s*2)\n",
    "\n",
    "        if ((y2[-1]-y1[-1])/y2[-1] < eps):\n",
    "            s = s*2\n",
    "            break\n",
    "        else:\n",
    "            s = 2 * s\n",
    "            \n",
    "    print(s)\n",
    "    x = np.linspace(x0[0],x0[1],s)\n",
    "    y_teilor = y2\n",
    "    plt.plot(x,y_teilor,label = \"y(x) - teilor4\",c = 'b')\n",
    "    plt.legend(loc = 'best')\n",
    "    plt.show()\n",
    "    plt.plot(y_teilor,y_sh,label = r\"$\\frac{d}{dx}y(x) - teilor4 $\",c = 'r') \n",
    "    plt.legend(loc = 'best')\n",
    "    plt.show()\n",
    "    y_runge = runge_kutta_self(ff,[0,2],[1,0,0],800)[0]\n",
    "    y_sh_runge = runge_kutta_self(ff,[0,2],[1,0,0],800)[1]\n",
    "    plt.plot(x,y_runge,label = \"y(x) - runge\",c = 'b') \n",
    "    plt.legend(loc = 'best')\n",
    "    plt.show()\n",
    "    #y_sh_runge = (runge_kutta_self(ff,[0,2],[1,0,0],s))[1]\n",
    "    plt.plot(y_runge,y_sh_runge,label = r\"$\\frac{d}{dx}y(x) -runge $\",c = 'r') \n",
    "    plt.legend(loc = 'best')\n",
    "    plt.show()\n",
    "    plt.plot(x,np.abs(y_exact-y_runge),  label = 'exact - runge',  c = 'y') \n",
    "    plt.plot(x,np.abs(y_teilor-y_exact), label = 'teilor4 - exact',c = 'g') \n",
    "    plt.plot(x,np.abs(y_teilor-y_runge), label = 'teilor4 - runge',c = 'b') \n",
    "    plt.legend(loc = 'best')\n",
    "    plt.show()"
   ]
  },
  {
   "cell_type": "code",
   "execution_count": 109,
   "metadata": {
    "collapsed": false
   },
   "outputs": [
    {
     "name": "stdout",
     "output_type": "stream",
     "text": [
      "800\n"
     ]
    },
    {
     "data": {
      "image/png": "[encoded data removed]",
      "text/plain": [
       "<matplotlib.figure.Figure at 0x26943f07358>"
      ]
     },
     "metadata": {},
     "output_type": "display_data"
    },
    {
     "data": {
      "image/png": "[encoded data removed]",
      "text/plain": [
       "<matplotlib.figure.Figure at 0x26943e56780>"
      ]
     },
     "metadata": {},
     "output_type": "display_data"
    },
    {
     "data": {
      "image/png": "[encoded data removed]",
      "text/plain": [
       "<matplotlib.figure.Figure at 0x2693e485710>"
      ]
     },
     "metadata": {},
     "output_type": "display_data"
    },
    {
     "data": {
      "image/png": "[encoded data removed]",
      "text/plain": [
       "<matplotlib.figure.Figure at 0x26942a9a1d0>"
      ]
     },
     "metadata": {},
     "output_type": "display_data"
    },
    {
     "data": {
      "image/png": "[encoded data removed]",
      "text/plain": [
       "<matplotlib.figure.Figure at 0x2694283fef0>"
      ]
     },
     "metadata": {},
     "output_type": "display_data"
    }
   ],
   "source": [
    "final_func(f,components,[0,2],[1,0,0],0.01)"
   ]
  },
  {
   "cell_type": "markdown",
   "metadata": {},
   "source": [
    "  "
   ]
  },
  {
   "cell_type": "markdown",
   "metadata": {},
   "source": [
    "  "
   ]
  },
  {
   "cell_type": "markdown",
   "metadata": {},
   "source": [
    "$\\Large  \\underline{№ 4} ~~ {\\Large Решение~системы~ДУ~методом~Рунге-Кутты} \\\\$  "
   ]
  },
  {
   "cell_type": "markdown",
   "metadata": {},
   "source": [
    "Метод Рунге_Кутты являетя одним из самых распространнёных методов чесленного решения ДУ и подробное описание метода содержится в ряде источников, поэтому в данной работе ограничимся только реализацией."
   ]
  },
  {
   "cell_type": "code",
   "execution_count": 105,
   "metadata": {
    "collapsed": true
   },
   "outputs": [],
   "source": [
    "import numpy as np\n",
    "import matplotlib.pyplot as plt\n",
    "\n",
    "def ff(x,y):\n",
    "    return [y[1],y[2], 2*y[2] + 2*y[1] + np.cos(x)*np.exp(2*x)]\n",
    "  "
   ]
  },
  {
   "cell_type": "code",
   "execution_count": 106,
   "metadata": {
    "collapsed": true
   },
   "outputs": [],
   "source": [
    "def runge_kutta_self(f,x0,y0,quantity_of_steps):\n",
    "    \n",
    "    step = (x0[1]-x0[0])/quantity_of_steps # step\n",
    "    x = np.linspace(x0[0],x0[1],quantity_of_steps)\n",
    "    n = len(y0)\n",
    "    y = np.zeros((n,quantity_of_steps))\n",
    "    for i in np.arange(0,n):\n",
    "        y[i][0] = y0[i]\n",
    "        \n",
    "    for i in np.arange(0,quantity_of_steps-1):\n",
    "        k1,k2,k3,k4 = np.zeros(n),np.zeros(n),np.zeros(n),np.zeros(n)\n",
    "        k1 = ff(step*i,[ y[j][i] for j in range(0,n) ] )\n",
    "        k2 = ff(step*i + step/2,[y[j][i] + step/2 * k1[j] for j in range(0,n)])\n",
    "        k3 = ff(step*i + step/2,[y[j][i] + step/2 * k2[j] for j in range(0,n)])\n",
    "        k4 = ff(step*i + step,[y[j][i] + step * k3[j] for j in range(0,n)])\n",
    "        for j in range(0,n):\n",
    "            y[j][i+1] = y[j][i] + step/6*(k1[j] + 2*k2[j] + 2*k3[j] + k4[j] )\n",
    "    \n",
    "    #plt.plot(x,y[0][:])\n",
    "    #y_runge = y[0]\n",
    "    #plt.show()\n",
    "    #plt.plot(y[0][:],y[1][:],c = 'r')\n",
    "    #y_sh_runge = y[1]\n",
    "    #plt.show()\n",
    "    #print(y[0],y[1])\n",
    "    return y[0],y[1]"
   ]
  },
  {
   "cell_type": "code",
   "execution_count": 107,
   "metadata": {
    "collapsed": false
   },
   "outputs": [],
   "source": [
    "y_runge = runge_kutta_self(ff,[0,2],[1,0,0],800)[0]\n",
    "y_sh_runge = runge_kutta_self(ff,[0,2],[1,0,0],800)[1]\n",
    "#print(runge_kutta_self(ff,[0,2],[1,0,0],800)[0])\n",
    "\n",
    "#y_runge = runge_kutta_self(ff,[0,2],[1,0,0],800)[0]\n",
    "#y_sh_runge = runge_kutta_self(ff,[0,2],[1,0,0],800)[1]\n",
    "#plt.plot(x,y_runge, c = 'b' )\n",
    "#plt.plot(y_runge,y_sh_runge,c = 'r')\n",
    "#plt.show()\n",
    "\n",
    "#print(y[0],y[1])\n",
    "#return y[0],y[1]"
   ]
  },
  {
   "cell_type": "markdown",
   "metadata": {},
   "source": [
    "$\\Large  \\underline{№ 5} ~~ {\\Large Сравнение~решений~различными~способами} \\\\$   \n",
    "Изучив зависимости,полученные в предыдущих пунктах, приходим к выводу ,что решения заданным методом ,точное и методом Рунге_Кутты почти совпадают (точность к концу отрезка ухудшается (5-ый знак после запятой))"
   ]
  },
  {
   "cell_type": "markdown",
   "metadata": {},
   "source": [
    "    "
   ]
  },
  {
   "cell_type": "markdown",
   "metadata": {},
   "source": [
    "  "
   ]
  },
  {
   "cell_type": "markdown",
   "metadata": {},
   "source": [
    "$\\Large  \\underline{№ 6} ~~ {\\Large Вывод} \\\\$ "
   ]
  },
  {
   "cell_type": "markdown",
   "metadata": {},
   "source": [
    "Теоретически и практически изучена Задача Коши и способы её решение.Были реализованы два метода: метод Тейлора 4-ого порядка для решения системы ДУ первого порядка и метод Рунге-Кутты"
   ]
  },
  {
   "cell_type": "markdown",
   "metadata": {},
   "source": [
    "  "
   ]
  },
  {
   "cell_type": "markdown",
   "metadata": {},
   "source": [
    "  "
   ]
  },
  {
   "cell_type": "markdown",
   "metadata": {},
   "source": [
    "  "
   ]
  }
 ],
 "metadata": {
  "anaconda-cloud": {},
  "kernelspec": {
   "display_name": "Python [conda root]",
   "language": "python",
   "name": "conda-root-py"
  },
  "language_info": {
   "codemirror_mode": {
    "name": "ipython",
    "version": 3
   },
   "file_extension": ".py",
   "mimetype": "text/x-python",
   "name": "python",
   "nbconvert_exporter": "python",
   "pygments_lexer": "ipython3",
   "version": "3.5.2"
  }
 },
 "nbformat": 4,
 "nbformat_minor": 1
}
