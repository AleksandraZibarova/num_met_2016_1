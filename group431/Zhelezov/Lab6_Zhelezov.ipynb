{
 "cells": [
  {
   "cell_type": "markdown",
   "metadata": {},
   "source": [
    "# Лабораторная работа № 6"
   ]
  },
  {
   "cell_type": "markdown",
   "metadata": {},
   "source": [
    "### В данной лабораторной работе нужно найти минимум заданной функции методом Ньютона . $$f(x_1,x_2)=x_1^2+x_2^2-0.5x_1-1.6x_2+2$$ В конце работы оценили овражность ,а так же исследовали условие сходимости. Были построены график функции,траектория поиска и линии уровня, а так же сделано дополнительное задание для трех переменных . В конце работы представлен вывод . \n",
    "\n",
    "#### Выполнил Железов Владислав(431 группа)Вариант 5"
   ]
  },
  {
   "cell_type": "markdown",
   "metadata": {},
   "source": [
    "### Метод Ньютона . Для получения итерационной формулы этого метода используется разложение функции $f(x)$ в ряд Тейлора 2-го порядка. И приравнивая разложение к 0. Получаем точку где функция достигает глобального минимума  $x^{k+1}=x^k-∇f(x^k){[∇^2f(x^k)]}^{-1}$(где $[∇^2f(x)]$ -матрица Гессе (гессиан) функцииf(x)) Если точка $x^{k+1}$ достаточно близка к $x^k$, справедливо неравенство $f(x^{k+1})< f(x^k)$ , т.е. $x^{k+1}$ естественно взять следующим за $x^k$ приближением к решению задачи .  Таким образом, в этом методе $α= 1$,$p^k=−([∇^2f(x^k)])^{−1}∇f(x^k)$.  Практически $p^k$ удобнее искать не по формуле , а решая систему линейных уравнений $[∇^2f(x^k)]p^k=−∇f(x^k)$ одним из прямых или итерационных методов (см. соотвествующие лабораторные работы), исключая тем самым операцию обращения матрицы Гессе. Отметим, что для квадратичной функции f(x) метод Ньютона сходится за один шаг. Для достаточно гладкой функции f(x) с положительно определенной матрицей Гессе при удачном выборе начального приближения итерационная последовательность метода Ньютона сходится к точке минимума с квадратичной скоростью. Однако, найти удачное начальное приближение - задача довольно сложная, требующая определенного искусства. Модифицируя метод Ньютона введением переменного множителя получают методы спуска, сходящиеся при любом начальном приближении .\n",
    "\n"
   ]
  },
  {
   "cell_type": "code",
   "execution_count": 1,
   "metadata": {
    "collapsed": true
   },
   "outputs": [],
   "source": [
    "import numpy as np\n",
    "from scipy import *\n",
    "from math import *\n",
    "from scipy.linalg import *\n",
    "from mpl_toolkits.mplot3d import Axes3D\n",
    "import matplotlib.pyplot as plt\n",
    "import pylab"
   ]
  },
  {
   "cell_type": "code",
   "execution_count": 35,
   "metadata": {
    "collapsed": false
   },
   "outputs": [],
   "source": [
    "import numpy as np\n",
    "import matplotlib.pyplot as plt\n",
    "from math import *\n",
    "from pylab import *\n",
    "from scipy.linalg import *"
   ]
  },
  {
   "cell_type": "markdown",
   "metadata": {},
   "source": [
    "### Нахождение сообственных значений в матрице Гессе, для оценки овражности."
   ]
  },
  {
   "cell_type": "code",
   "execution_count": 3,
   "metadata": {
    "collapsed": false
   },
   "outputs": [
    {
     "data": {
      "text/plain": [
       "(array([ 2.,  2.]), array([[ 1.,  0.],\n",
       "        [ 0.,  1.]]))"
      ]
     },
     "execution_count": 3,
     "metadata": {},
     "output_type": "execute_result"
    }
   ],
   "source": [
    "def f(x):\n",
    "    return ((x[0])^2+(x[1])^2-0.5*x[0]-1.6*x[1]+2)\n",
    "def grad(x):\n",
    "    return np.array([2*x[0]-0.5, 2*x[1]-1.6])\n",
    "def gess(x):\n",
    "    return np.array([2,0,0,2]).reshape((2,2))\n",
    "x=linspace(0,1,1)\n",
    "g=gess(x)\n",
    "linalg.eig(g)\n"
   ]
  },
  {
   "cell_type": "markdown",
   "metadata": {},
   "source": [
    "### Построение 3D графика функции"
   ]
  },
  {
   "cell_type": "code",
   "execution_count": 51,
   "metadata": {
    "collapsed": false
   },
   "outputs": [],
   "source": [
    "import pylab\n",
    "from mpl_toolkits.mplot3d import Axes3D\n",
    "% matplotlib qt\n",
    "def makeData ():\n",
    "    x = np.arange (-10, 10, 0.1)\n",
    "    y = np.arange (-10, 10, 0.1)\n",
    "    xgrid, ygrid = np.meshgrid(x, y)\n",
    "\n",
    "    zgrid = (xgrid)**2+(ygrid)**2-0.5*(xgrid)-1.6*(ygrid)+2\n",
    "    return xgrid, ygrid, zgrid\n",
    "\n",
    "x, y, z = makeData()\n",
    "\n",
    "fig = pylab.figure()\n",
    "axes = Axes3D(fig)\n",
    "\n",
    "axes.plot_surface(x, y, z)\n",
    "\n",
    "pylab.show()"
   ]
  },
  {
   "cell_type": "markdown",
   "metadata": {},
   "source": [
    "### Метод Ньютона"
   ]
  },
  {
   "cell_type": "code",
   "execution_count": 47,
   "metadata": {
    "collapsed": false
   },
   "outputs": [
    {
     "name": "stdout",
     "output_type": "stream",
     "text": [
      "[array([[ 0.25]])] [array([[ 0.8]])]\n",
      "(array([[ 1.2975]]), 1)\n"
     ]
    }
   ],
   "source": [
    "def f(xb,xz):\n",
    "    return ((xb)**2+(xz)**2-0.5*xb-1.6*xz+2)\n",
    "def grad0(x0):\n",
    "    return np.array([2*x0-0.5])\n",
    "def grad1(x1):\n",
    "    return np.array([2*x1-1.6])\n",
    "def gess(x):\n",
    "    return np.array([2,0,0,2]).reshape((2,2))\n",
    "def minn(f,e):\n",
    "    x0=1\n",
    "    x1=-1\n",
    "    n=-1\n",
    "    d=0\n",
    "    e=0.01\n",
    "    while True:\n",
    "        r=f(x0,x1)\n",
    "        L1=[]\n",
    "        L2=[]\n",
    "        p0=-grad0(x0)/2\n",
    "        p1=-grad1(x1)/2\n",
    "        x0=x0+p0\n",
    "        x1=x1+p1\n",
    "        L1.append(x0)\n",
    "        L2.append(x1)\n",
    "        d=f(x0,x1)\n",
    "        n=n+1\n",
    "        if (r-d)<e:\n",
    "            print (L1,L2)\n",
    "            return d,n\n",
    "j=minn(f,e)\n",
    "print (j)\n",
    "        "
   ]
  },
  {
   "cell_type": "markdown",
   "metadata": {},
   "source": [
    "### Построение линий уровня, и траектории поиска"
   ]
  },
  {
   "cell_type": "code",
   "execution_count": 31,
   "metadata": {
    "collapsed": false
   },
   "outputs": [
    {
     "data": {
      "image/png": "[encoded data removed]",
      "text/plain": [
       "<matplotlib.figure.Figure at 0x9061eb8>"
      ]
     },
     "metadata": {},
     "output_type": "display_data"
    }
   ],
   "source": [
    "\n",
    "def f(xh,xj):\n",
    "    return ((xh)**2+(xj)**2-0.5*xh-1.6*xj+2)\n",
    "A=np.array([1,-1,0.25,0.8]).reshape((2,2))\n",
    "x = np.arange (-10, 10, 0.5)\n",
    "y = np.arange (-10, 10, 0.5)\n",
    "xg, yg = np.meshgrid(x, y)\n",
    "z =f(xg,yg)\n",
    "pylab.contour(xg, yg, z)\n",
    "pylab.plot(A[:,0] ,A[:,1])\n",
    "pylab.grid(True)\n",
    "pylab.show()"
   ]
  },
  {
   "cell_type": "markdown",
   "metadata": {},
   "source": [
    "### Метод Ньютона для 3 переменных"
   ]
  },
  {
   "cell_type": "code",
   "execution_count": 27,
   "metadata": {
    "collapsed": false
   },
   "outputs": [
    {
     "name": "stdout",
     "output_type": "stream",
     "text": [
      "(1.23, 1)\n"
     ]
    }
   ],
   "source": [
    "def f(x0,x1,x2):\n",
    "    return ((x0)**2+(x1)**2+3*(x2)**2-0.5*x0-1.6*x1-0.9*x2+2)\n",
    "def grad(x0,x1,x2):\n",
    "    return np.array([2*x0-0.5, 2*x1-1.6,6*x2-0.9])\n",
    "def gess(x):\n",
    "    return np.array([2,0,0,2,0,6]).reshape((2,3))\n",
    "def minn(i):\n",
    "    x0=1\n",
    "    x1=-1\n",
    "    x2=-2\n",
    "    n=0\n",
    "    d=0\n",
    "    while True:\n",
    "        r=d\n",
    "        L=[]\n",
    "        r=(x0)**2+(x1)**2+3*(x2)**2-0.5*x0-1.6*x1-0.9*x2+2\n",
    "        p0=-(2*x0-0.5)/2\n",
    "        p1=-(2*x1-1.6)/2\n",
    "        p2=-(6*x2-0.9)/6\n",
    "        x0=x0+p0\n",
    "        x1=x1+p1\n",
    "        x2=x2+p2\n",
    "        d=(x0)**2+(x1)**2+3*(x2)**2-0.5*x0-1.6*x1-0.9*x2+2\n",
    "        n=n+1\n",
    "        if (d-r)<0.01:\n",
    "            return d,n\n",
    "i=linspace(0,1,1)\n",
    "j=minn(i)\n",
    "print (j)"
   ]
  },
  {
   "cell_type": "markdown",
   "metadata": {},
   "source": [
    "## Вывод : Из результатов первой программы мы получили ,что овражность равна 1. По построенным графикам смогли проанализировать полученное решение .Сходимость определятся сильной выпуклостью функции вниз (это говорится в теореме 2 ) . Так как сходимость зависит от выбора начальной точки и  параметров итерационного процесса. Начальная точка была выбрана достаточно близко к точке минимума, что обеспечило быструю сходимость, и достаточную верность полученного результата. О чем свидетельствует график линий уровня."
   ]
  }
 ],
 "metadata": {
  "anaconda-cloud": {},
  "kernelspec": {
   "display_name": "Python [Root]",
   "language": "python",
   "name": "Python [Root]"
  },
  "language_info": {
   "codemirror_mode": {
    "name": "ipython",
    "version": 3
   },
   "file_extension": ".py",
   "mimetype": "text/x-python",
   "name": "python",
   "nbconvert_exporter": "python",
   "pygments_lexer": "ipython3",
   "version": "3.5.2"
  }
 },
 "nbformat": 4,
 "nbformat_minor": 0
}
