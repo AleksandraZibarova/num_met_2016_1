{
 "cells": [
  {
   "cell_type": "markdown",
   "metadata": {},
   "source": [
    "# Лабораторная работа № 7"
   ]
  },
  {
   "cell_type": "markdown",
   "metadata": {},
   "source": [
    "## В данной лабораторной работе предоставлялось решить задачу Коши методом Тейлора 4-го порядка , уравнение $y''-4y=sin(x)exp(-x)$ с заданными начальными условиями $y(0)=1$ , $y'(0)=0$ решение нужно было найти на интервале от $[0-2]$ с заданной относительной точностью 0.01"
   ]
  },
  {
   "cell_type": "markdown",
   "metadata": {},
   "source": [
    "## Метод  Тейлора 4-го порядка. \n",
    "## Простейшим способом построения приближенного решения в точке $x_{n+1}$ сетки является способ, основанный на разложении решения в ряд Тейлора в предыдущей точке сетки $x_n$ по степеням шага h:\n",
    "## Взяв вместо  ряда конечный его отрезок : $p(x; y; h)= y_0(x) +h^2y''(x) + : : : +(h^{p-1}/p!)y^{p}(x)$\n",
    "## Нам нужно разложить до 3 производной так как у нас Тейлор 4-го порядка"
   ]
  },
  {
   "cell_type": "code",
   "execution_count": 3,
   "metadata": {
    "collapsed": true
   },
   "outputs": [],
   "source": [
    "import numpy as np\n",
    "from math import log, exp,sin,cos,sqrt\n",
    "from scipy import *\n",
    "from scipy.linalg import *\n",
    "from sympy import *\n",
    "init_printing()\n",
    "import matplotlib.pyplot as plt\n",
    "import pylab"
   ]
  },
  {
   "cell_type": "markdown",
   "metadata": {},
   "source": [
    "#### Составляем систему дифференциальных уравнений первого порядка"
   ]
  },
  {
   "cell_type": "code",
   "execution_count": 21,
   "metadata": {
    "collapsed": true
   },
   "outputs": [],
   "source": [
    "\n",
    "def fm(x,y1,y2):\n",
    "    z=y2\n",
    "    r=-4*y1+sin(x)*exp(-x)\n",
    "    return z,r\n",
    "x=Symbol('x')\n",
    "y1=Symbol('y1')\n",
    "y2=Symbol('y2')"
   ]
  },
  {
   "cell_type": "markdown",
   "metadata": {},
   "source": [
    "#### Реализация для метода Тейлора 4-го порядка при решение дифференциального уравнения второго порядка"
   ]
  },
  {
   "cell_type": "code",
   "execution_count": 22,
   "metadata": {
    "collapsed": false
   },
   "outputs": [
    {
     "name": "stdout",
     "output_type": "stream",
     "text": [
      "7\n"
     ]
    }
   ],
   "source": [
    "\n",
    "def F(f,x00,y0,y01,h):\n",
    "    n=0\n",
    "    p1=np.zeros([2,1])\n",
    "    A=np.zeros([2,1])\n",
    "    while True:\n",
    "        x0=x00\n",
    "        p0=np.array([[y0],[y01]])\n",
    "        n=n+1\n",
    "        X=[x0]\n",
    "        Y=[y0]\n",
    "        Y1=[y01]\n",
    "        S=[x00]\n",
    "        j=1\n",
    "        while x0>=0 and x0<=(4-h):\n",
    "            b=diff(f(x,y1,y2)[0],y1).evalf(subs={x:x0,y1:p0[0][0],y2:p0[1][0]})\n",
    "            z=diff(f(x,y1,y2)[0],y2).evalf(subs={x:x0,y1:p0[0][0],y2:p0[1][0]})\n",
    "            d=diff(f(x,y1,y2)[1],y1).evalf(subs={x:x0,y1:p0[0][0],y2:p0[1][0]})\n",
    "            q=diff(f(x,y1,y2)[1],y2).evalf(subs={x:x0,y1:p0[0][0],y2:p0[1][0]})\n",
    "            A[1][0]=diff(f(x,y1,y2)[1],x).evalf(subs={x:x0,y1:p0[0][0],y2:p0[1][0]})\n",
    "            B=np.array([[b,z],[d,q]])\n",
    "            for i in range(2):\n",
    "                e=f(x,y1,y2)[i].evalf(subs={x:x0,y1:p0[0][0],y2:p0[1][0]})\n",
    "                p1[i]=e\n",
    "            p2=A+dot(B,p1)    \n",
    "            pn=p0+h*p1+0.5*p2*h**2\n",
    "            p0=pn\n",
    "            x0=x0+h\n",
    "            X.append(x0)\n",
    "            Y.append(pn[0][0])\n",
    "            Y1.append(pn[1][0])\n",
    "            j=j+1\n",
    "            if j%2!=0:\n",
    "                S.append(pn[0][0])\n",
    "                \n",
    "        h=h*0.5    \n",
    "        S=np.array(S,dtype=np.double)\n",
    "        if n!=1:\n",
    "            Yp= np.array(Yp,dtype=np.double)\n",
    "            if abs (max(S-Yp))<0.01 or n==20:\n",
    "                print(n)\n",
    "                break\n",
    "        Yp=Y\n",
    "    return X,Y,Y1\n",
    "C,D,E=F(fm,0,1,0,1)"
   ]
  },
  {
   "cell_type": "markdown",
   "metadata": {},
   "source": [
    "#### Сравнение решения найденного численно  и аналитического решения"
   ]
  },
  {
   "cell_type": "code",
   "execution_count": null,
   "metadata": {
    "collapsed": false
   },
   "outputs": [],
   "source": [
    "#график решения\n",
    "def Fx(x):\n",
    "    z=-(1/20)*sin(2*x)+(9/10)*cos(2*x)+(1/5)*(exp(-x)*sin(x))+(1/10)*exp(-x)*cos(x)\n",
    "    return z               \n",
    "xnew=np.linspace(0,4,50)\n",
    "ynew=[Fx(i) for i in xnew]\n",
    "plt.plot(xnew,ynew,C,D,'rx')\n",
    "plt.grid(True)\n",
    "plt.show()"
   ]
  },
  {
   "cell_type": "markdown",
   "metadata": {},
   "source": [
    "#### Построение фазовой плоскости"
   ]
  },
  {
   "cell_type": "code",
   "execution_count": null,
   "metadata": {
    "collapsed": true
   },
   "outputs": [],
   "source": [
    "#фазовая плоскать\n",
    "plt.plot(D,E)\n",
    "plt.grid(True)\n",
    "plt.show()"
   ]
  },
  {
   "cell_type": "markdown",
   "metadata": {},
   "source": [
    "### Вывод : данная программа может решать задачу Коши для дифференциальных уравнений 2-го порядка. При сравнение решений аналитического и численного присутствует небольшое отклонение ,это связано с неточностью констант в найденном аналитическом решение. Фазовая плокость соответствует результатам."
   ]
  }
 ],
 "metadata": {
  "anaconda-cloud": {},
  "kernelspec": {
   "display_name": "Python [Root]",
   "language": "python",
   "name": "Python [Root]"
  },
  "language_info": {
   "codemirror_mode": {
    "name": "ipython",
    "version": 3
   },
   "file_extension": ".py",
   "mimetype": "text/x-python",
   "name": "python",
   "nbconvert_exporter": "python",
   "pygments_lexer": "ipython3",
   "version": "3.5.2"
  }
 },
 "nbformat": 4,
 "nbformat_minor": 0
}
