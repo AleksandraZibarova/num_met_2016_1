{
 "cells": [
  {
   "cell_type": "markdown",
   "metadata": {},
   "source": [
    "# Лабараторная работа № 5"
   ]
  },
  {
   "cell_type": "markdown",
   "metadata": {},
   "source": [
    "### В данной лабораторной работе нам предлагают решить систему из 1000 ураавнений заданные рекурентной формулой \n",
    "$$(1+\\sin(i)^2)x(i-1)-((6+\\sin(i)^2/(i+2))x(i)+x(i+1)=-1+\n",
    "\\int_1^3(log(log(10+i+cos(1+\\exp((-1)ix)))))$$\n",
    "### а так же по рекурентной формуле Буля подсчитать интегралл. Решить систему предлагается 2 способоми, методом прогонки , и итерационным методом, Гаусса-Зейделя. Системы решались с относительной точностью 0.001 , интегралл с относительной точностью 0.01.  \n",
    "#### Выполнил Железов Владислав(431 группа)Вариант 5"
   ]
  },
  {
   "cell_type": "code",
   "execution_count": 2,
   "metadata": {
    "collapsed": false
   },
   "outputs": [],
   "source": [
    "import numpy as np\n",
    "import matplotlib.pyplot as plt\n",
    "from math import *\n",
    "from pylab import *\n",
    "from scipy.linalg import *\n",
    "%matplotlib inline"
   ]
  },
  {
   "cell_type": "markdown",
   "metadata": {},
   "source": [
    "### Рекурентная формула Буля"
   ]
  },
  {
   "cell_type": "code",
   "execution_count": 5,
   "metadata": {
    "collapsed": false
   },
   "outputs": [
    {
     "name": "stdout",
     "output_type": "stream",
     "text": [
      "1.64655347507\n",
      "1.79581133553\n",
      "1.87167206444\n",
      "1.9334266917\n",
      "1.98819525541\n",
      "2.03781954215\n",
      "2.0832196619\n",
      "2.12502902401\n",
      "2.16373682755\n",
      "2.19973764111\n"
     ]
    },
    {
     "data": {
      "image/png": "[encoded data removed]",
      "text/plain": [
       "<matplotlib.figure.Figure at 0x8121fd0>"
      ]
     },
     "metadata": {},
     "output_type": "display_data"
    }
   ],
   "source": [
    "def fun(x,i):\n",
    "    return log(log(10+i+cos(1+exp((-1)*i*x))))\n",
    "def bul(m):\n",
    "    n=0\n",
    "    e=0.01\n",
    "    a=1\n",
    "    b=3\n",
    "    h=(b-a)\n",
    "    Integr=[]\n",
    "    N=[]\n",
    "    T=h/(2*(fun(a,m)+fun(b,m)))\n",
    "    T1=0 #2-ой член\n",
    "    der=0\n",
    "    for z in range(1,2):\n",
    "        der=der+fun(a+(2*z-1)*h,m)\n",
    "    der=der*h \n",
    "    T1=T\n",
    "    T=(T/2)+der\n",
    "    B1=0\n",
    "    B=(16*4*T-19*T1)/45\n",
    "    while abs((B-B1)/B)>e:\n",
    "        n=n+1\n",
    "        N.append(n)\n",
    "        h=h/2\n",
    "        k=int(2**(n-1))\n",
    "        for z in range(1,k+1):\n",
    "            der=der+fun(a+(2*z-1)*h,m)\n",
    "        der=der*h      \n",
    "        T1=T\n",
    "        T=(T/2)+der\n",
    "        B1=B\n",
    "        B=(16*4*T-19*T1)/45\n",
    "        Integr.append(B)\n",
    "    return B\n",
    "D=np.zeros([10])\n",
    "for m in range(0,10):\n",
    "    b=bul(m)\n",
    "    D[m]=b\n",
    "    print (b)\n",
    "i=linspace(1,10,10)\n",
    "\n",
    "plt.plot(i,D,'k')\n",
    "plt.show()"
   ]
  },
  {
   "cell_type": "markdown",
   "metadata": {},
   "source": [
    "### График зависимости значения интералла от номера итерации"
   ]
  },
  {
   "cell_type": "code",
   "execution_count": 60,
   "metadata": {
    "collapsed": false
   },
   "outputs": [
    {
     "name": "stdout",
     "output_type": "stream",
     "text": [
      "[ 3.36963877  5.05456313  4.78103728  3.62676668  2.82261302  2.4167789\n",
      "  2.20879878  2.09766541  2.03785442  2.00575924  1.98860744]\n"
     ]
    },
    {
     "data": {
      "image/png": "[encoded data removed]",
      "text/plain": [
       "<matplotlib.figure.Figure at 0x82c8cf8>"
      ]
     },
     "metadata": {},
     "output_type": "display_data"
    }
   ],
   "source": [
    "L=np.zeros([11])\n",
    "def fun(x,i):\n",
    "    return log(log(10+i+cos(1+exp((-1)*i*x))))\n",
    "def bul(m):\n",
    "    n=0\n",
    "    e=0.01\n",
    "    a=1\n",
    "    b=3\n",
    "    h=(b-a)\n",
    "    Integr=[]\n",
    "    N=[]\n",
    "    T=h/2*(fun(a,m)+fun(b,m))\n",
    "    T1=0 #2-ой член\n",
    "    der=0\n",
    "    for z in range(1,2):\n",
    "        der=der+fun(a+(2*z-1)*h,m)\n",
    "    der=der*h \n",
    "    T1=T\n",
    "    T=(T/2)+der\n",
    "    B1=0\n",
    "    B=(16*4*T-19*T1)/45\n",
    "    L[0]=B\n",
    "    while abs((B-B1)/B)>e:\n",
    "        n=n+1\n",
    "        N.append(n)\n",
    "        h=h/2\n",
    "        k=int(2**(n-1))\n",
    "        for z in range(1,k+1):\n",
    "            der=der+fun(a+(2*z-1)*h,m)\n",
    "        der=der*h      \n",
    "        T1=T\n",
    "        T=(T/2)+der\n",
    "        B1=B\n",
    "        B=(16*4*T-19*T1)/45\n",
    "        Integr.append(B)\n",
    "        for i in range(0,11):\n",
    "            if n==i:  \n",
    "                L[i]=B\n",
    "    return L\n",
    "\n",
    "n=np.array([0,1,2,3,4,5,6,7,8,9,10])\n",
    "b=bul(4)\n",
    "print (b)\n",
    "plt.plot(n,L,'k')\n",
    "plt.show()"
   ]
  },
  {
   "cell_type": "markdown",
   "metadata": {
    "collapsed": false
   },
   "source": [
    "### Вычисление интегралла с помощью функции trapz"
   ]
  },
  {
   "cell_type": "code",
   "execution_count": 75,
   "metadata": {
    "collapsed": false
   },
   "outputs": [
    {
     "data": {
      "text/plain": [
       "1.6514142768679125"
      ]
     },
     "execution_count": 75,
     "metadata": {},
     "output_type": "execute_result"
    }
   ],
   "source": [
    " a=[log(log(10+0+cos(1+exp(-1)*0))),log(log(10+0+cos(1+exp((-1)*2*0)))),log(log(10+0+cos(1+exp((-1)*0*3))))]\n",
    "np.trapz(a,dx=1)"
   ]
  },
  {
   "cell_type": "code",
   "execution_count": 74,
   "metadata": {
    "collapsed": false
   },
   "outputs": [
    {
     "data": {
      "text/plain": [
       "1.7776696686828448"
      ]
     },
     "execution_count": 74,
     "metadata": {},
     "output_type": "execute_result"
    }
   ],
   "source": [
    "a=[log(log(10+1+cos(1+exp(-1)*1))),log(log(10+1+cos(1+exp((-1)*1*2)))),log(log(10+1+cos(1+exp((-1)*1*3))))]\n",
    "np.trapz(a,dx=1)"
   ]
  },
  {
   "cell_type": "code",
   "execution_count": 73,
   "metadata": {
    "collapsed": false
   },
   "outputs": [
    {
     "data": {
      "text/plain": [
       "1.8435200247347927"
      ]
     },
     "execution_count": 73,
     "metadata": {},
     "output_type": "execute_result"
    }
   ],
   "source": [
    "a=[log(log(10+2+cos(1+exp(-1)*2))),log(log(10+2+cos(1+exp((-1)*2*2)))),log(log(10+2+cos(1+exp((-1)*2*3))))]\n",
    "np.trapz(a,dx=1)"
   ]
  },
  {
   "cell_type": "code",
   "execution_count": 72,
   "metadata": {
    "collapsed": false
   },
   "outputs": [
    {
     "data": {
      "text/plain": [
       "1.8996127651720962"
      ]
     },
     "execution_count": 72,
     "metadata": {},
     "output_type": "execute_result"
    }
   ],
   "source": [
    "a=[log(log(10+3+cos(1+exp(-1)*3))),log(log(10+3+cos(1+exp((-1)*3*2)))),log(log(10+3+cos(1+exp((-1)*3*3))))]\n",
    "np.trapz(a,dx=1)"
   ]
  },
  {
   "cell_type": "code",
   "execution_count": 71,
   "metadata": {
    "collapsed": false
   },
   "outputs": [
    {
     "data": {
      "text/plain": [
       "1.9729221644791402"
      ]
     },
     "execution_count": 71,
     "metadata": {},
     "output_type": "execute_result"
    }
   ],
   "source": [
    "a=[log(log(10+4+cos(1+exp(-1)*4*4))),log(log(10+4+cos(1+exp((-1)*4*2)))),log(log(10+4+cos(1+exp((-1)*4*3))))]\n",
    "np.trapz(a,dx=1)"
   ]
  },
  {
   "cell_type": "markdown",
   "metadata": {},
   "source": [
    "### Сравнение результатов trapz и формулы Буля"
   ]
  },
  {
   "cell_type": "code",
   "execution_count": 40,
   "metadata": {
    "collapsed": false
   },
   "outputs": [
    {
     "data": {
      "image/png": "[encoded data removed]",
      "text/plain": [
       "<matplotlib.figure.Figure at 0x8289d68>"
      ]
     },
     "metadata": {},
     "output_type": "display_data"
    }
   ],
   "source": [
    "def fun(x,i):\n",
    "    return log(log(10+i+cos(1+exp((-1)*i*x))))\n",
    "def bul(m):\n",
    "    n=0\n",
    "    e=0.01\n",
    "    a=1\n",
    "    b=3\n",
    "    h=(b-a)\n",
    "    Integr=[]\n",
    "    N=[]\n",
    "    T=h/(2*(fun(a,m)+fun(b,m)))\n",
    "    T1=0 #2-ой член\n",
    "    der=0\n",
    "    for z in range(1,2):\n",
    "        der=der+fun(a+(2*z-1)*h,m)\n",
    "    der=der*h \n",
    "    T1=T\n",
    "    T=(T/2)+der\n",
    "    B1=0\n",
    "    B=(16*4*T-19*T1)/45\n",
    "    while abs((B-B1)/B)>e:\n",
    "        n=n+1\n",
    "        N.append(n)\n",
    "        h=h/2\n",
    "        k=int(2**(n-1))\n",
    "        for z in range(1,k+1):\n",
    "            der=der+fun(a+(2*z-1)*h,m)\n",
    "        der=der*h      \n",
    "        T1=T\n",
    "        T=(T/2)+der\n",
    "        B1=B\n",
    "        B=(16*4*T-19*T1)/45\n",
    "        Integr.append(B)\n",
    "    return B\n",
    "            \n",
    "X = np.array([bul(0),bul(1),bul(2),bul(3),bul(4)])\n",
    "Y = np.array([1.651414,1.77767,1.84352,1.89961,1.97292])\n",
    "i=linspace(0,5,5)\n",
    "\n",
    "plt.plot(i,(Y-X),'k')\n",
    "plt.show()"
   ]
  },
  {
   "cell_type": "markdown",
   "metadata": {},
   "source": [
    "### Метод прогонки для решения системы(1000 уравнений)"
   ]
  },
  {
   "cell_type": "code",
   "execution_count": 6,
   "metadata": {
    "collapsed": false
   },
   "outputs": [
    {
     "data": {
      "image/png": "[encoded data removed]",
      "text/plain": [
       "<matplotlib.figure.Figure at 0x7fabb38>"
      ]
     },
     "metadata": {},
     "output_type": "display_data"
    }
   ],
   "source": [
    "def fun(x,i):\n",
    "    return log(log(10+i+cos(1+exp((-1)*i*x))))\n",
    "def bul(m):\n",
    "    n=0\n",
    "    e=0.01\n",
    "    a=1\n",
    "    b=3\n",
    "    h=(b-a)\n",
    "    Integr=[]\n",
    "    N=[]\n",
    "    T=h/(2*(fun(a,m)+fun(b,m)))\n",
    "    T1=0 #2-ой член\n",
    "    der=0\n",
    "    for z in range(1,2):\n",
    "        der=der+fun(a+(2*z-1)*h,m)\n",
    "    der=der*h \n",
    "    T1=T\n",
    "    T=(T/2)+der\n",
    "    B1=0\n",
    "    B=(16*4*T-19*T1)/45\n",
    "    while abs((B-B1)/B)>e:\n",
    "        n=n+1\n",
    "        N.append(n)\n",
    "        h=h/2\n",
    "        k=int(2**(n-1))\n",
    "        for z in range(1,k+1):\n",
    "            der=der+fun(a+(2*z-1)*h,m)\n",
    "        der=der*h      \n",
    "        T1=T\n",
    "        T=(T/2)+der\n",
    "        B1=B\n",
    "        B=(16*4*T-19*T1)/45\n",
    "        Integr.append(B)\n",
    "    return B\n",
    "def A(i):\n",
    "    return (1+sin(i*i))\n",
    "def B(i):\n",
    "    return 1\n",
    "def C(i):\n",
    "    return -1*(6+sin(i*i)/(i+2))\n",
    "def F(i):\n",
    "    return -1+bul(i)\n",
    "\n",
    "\n",
    "alfa=np.zeros([1000])\n",
    "beta=np.zeros([1000])\n",
    "x=np.zeros([1000])\n",
    "x[0]=1\n",
    "alfa[2]=-1/(C(1))\n",
    "beta[2]=(F(1)-A(1))/C(1)\n",
    "for i in range(3, 1000):\n",
    "    alfa[i]=-1/(A(i)*alfa[i-1]+C(i))\n",
    "    beta[i]=(F(i)-A(i)*beta[i])/(A(i)*alfa[i-1]+C(i))\n",
    "x[99]=(F(999)-beta[998]*A(999))/(alfa[998]*A(999)+C(999))\n",
    "for  i in range(998,2,-1):\n",
    "    x[i]=alfa[i+1]*x[i+1]+beta[i+1]\n",
    "x[1]=alfa[2]*x[2]+beta[2]    \n",
    "i=linspace(0,1000,1000)\n",
    "plt.plot(i,x)\n",
    "plt.show()"
   ]
  },
  {
   "cell_type": "markdown",
   "metadata": {},
   "source": [
    "### Метод прогонки для решения системы(10000 уравнений)"
   ]
  },
  {
   "cell_type": "code",
   "execution_count": 9,
   "metadata": {
    "collapsed": false
   },
   "outputs": [
    {
     "data": {
      "image/png": "[encoded data removed]",
      "text/plain": [
       "<matplotlib.figure.Figure at 0x816f630>"
      ]
     },
     "metadata": {},
     "output_type": "display_data"
    }
   ],
   "source": [
    "def fun(x,i):\n",
    "    return log(log(10+i+cos(1+exp((-1)*i*x))))\n",
    "def bul(m):\n",
    "    n=0\n",
    "    e=0.01\n",
    "    a=1\n",
    "    b=3\n",
    "    h=(b-a)\n",
    "    Integr=[]\n",
    "    N=[]\n",
    "    T=h/(2*(fun(a,m)+fun(b,m)))\n",
    "    T1=0 #2-ой член\n",
    "    der=0\n",
    "    for z in range(1,2):\n",
    "        der=der+fun(a+(2*z-1)*h,m)\n",
    "    der=der*h \n",
    "    T1=T\n",
    "    T=(T/2)+der\n",
    "    B1=0\n",
    "    B=(16*4*T-19*T1)/45\n",
    "    while abs((B-B1)/B)>e:\n",
    "        n=n+1\n",
    "        N.append(n)\n",
    "        h=h/2\n",
    "        k=int(2**(n-1))\n",
    "        for z in range(1,k+1):\n",
    "            der=der+fun(a+(2*z-1)*h,m)\n",
    "        der=der*h      \n",
    "        T1=T\n",
    "        T=(T/2)+der\n",
    "        B1=B\n",
    "        B=(16*4*T-19*T1)/45\n",
    "        Integr.append(B)\n",
    "    return B\n",
    "def A(i):\n",
    "    return (1+sin(i*i))\n",
    "def B(i):\n",
    "    return 1\n",
    "def C(i):\n",
    "    return -1*(6+sin(i*i)/(i+2))\n",
    "def F(i):\n",
    "    return -1+bul(i)\n",
    "\n",
    "\n",
    "alfa=np.zeros([10000])\n",
    "beta=np.zeros([10000])\n",
    "x=np.zeros([10000])\n",
    "x[0]=1\n",
    "alfa[2]=-1/(C(1))\n",
    "beta[2]=(F(1)-A(1))/C(1)\n",
    "for i in range(3, 10000):\n",
    "    alfa[i]=-1/(A(i)*alfa[i-1]+C(i))\n",
    "    beta[i]=(F(i)-A(i)*beta[i])/(A(i)*alfa[i-1]+C(i))\n",
    "x[99]=(F(9999)-beta[9998]*A(9999))/(alfa[9998]*A(9999)+C(9999))\n",
    "for  i in range(9998,2,-1):\n",
    "    x[i]=alfa[i+1]*x[i+1]+beta[i+1]\n",
    "x[1]=alfa[2]*x[2]+beta[2]    \n",
    "i=linspace(0,10000,10000)\n",
    "plt.plot(i,x)\n",
    "plt.show()"
   ]
  },
  {
   "cell_type": "markdown",
   "metadata": {},
   "source": [
    "### Метод Гаусса-Зейделя(1000 уравнений)"
   ]
  },
  {
   "cell_type": "code",
   "execution_count": 12,
   "metadata": {
    "collapsed": false
   },
   "outputs": [
    {
     "data": {
      "image/png": "[encoded data removed]",
      "text/plain": [
       "<matplotlib.figure.Figure at 0x81d2a20>"
      ]
     },
     "metadata": {},
     "output_type": "display_data"
    }
   ],
   "source": [
    "def fun(x,i):\n",
    "    return log(log(10+i+cos(1+exp((-1)*i*x))))\n",
    "def bul(m):\n",
    "    n=0\n",
    "    e=0.01\n",
    "    a=1\n",
    "    b=3\n",
    "    h=(b-a)\n",
    "    Integr=[]\n",
    "    N=[]\n",
    "    T=h/(2*(fun(a,m)+fun(b,m)))\n",
    "    T1=0 #2-ой член\n",
    "    der=0\n",
    "    for z in range(1,2):\n",
    "        der=der+fun(a+(2*z-1)*h,m)\n",
    "    der=der*h \n",
    "    T1=T\n",
    "    T=(T/2)+der\n",
    "    B1=0\n",
    "    B=(16*4*T-19*T1)/45\n",
    "    while abs((B-B1)/B)>e:\n",
    "        n=n+1\n",
    "        N.append(n)\n",
    "        h=h/2\n",
    "        k=int(2**(n-1))\n",
    "        for z in range(1,k+1):\n",
    "            der=der+fun(a+(2*z-1)*h,m)\n",
    "        der=der*h      \n",
    "        T1=T\n",
    "        T=(T/2)+der\n",
    "        B1=B\n",
    "        B=(16*4*T-19*T1)/45\n",
    "        Integr.append(B)\n",
    "    return B\n",
    "def A(i):\n",
    "    return (1+sin(i*i))\n",
    "def B(i):\n",
    "    return 1\n",
    "def C(i):\n",
    "    return -1*(6+sin(i*i)/(i+2))\n",
    "def F(i):\n",
    "    return -1+bul(i)\n",
    "\n",
    "a=np.zeros((1000,1000))\n",
    "b=np.zeros(1000)\n",
    "d=np.zeros(1000)\n",
    "x=np.zeros(1000)\n",
    "for j in range(0,1000):\n",
    "    for i in range(0,1000):\n",
    "        if (i==j):\n",
    "            a[i][j]=C(i+1)\n",
    "        else:\n",
    "            if (i==j+1):\n",
    "                a[i][j]=A(i+1)\n",
    "for i in range(0,999):\n",
    "    a[i][i+1]=B(i)            \n",
    "for i in range(0,1000):\n",
    "    b[i]=F(i)\n",
    "for i in range(0,1000):\n",
    "    d[i]=b[i]/a[i][i]\n",
    "for i in range(0,1000): \n",
    "    x[i]=1\n",
    "def seidel(a, b):\n",
    "    n = len(a)\n",
    "    r = range(n)\n",
    "    x = [0 for i in r]\n",
    "    conv = False\n",
    "    k=0\n",
    "    while not conv:\n",
    "        p = x.copy()\n",
    "        for i in r:\n",
    "            var = sum(a[i][j] * x[j] for j in range(0,i))\n",
    "            var += sum(a[i][j] * p[j] for j in range(i+1, 1000))\n",
    "            x[i] = (b[i] - var) / a[i][i]\n",
    "        k=k+1\n",
    "        conv = sum((x[i]-p[i])**2 for i in r) < 0.001 \n",
    "    return x\n",
    "\n",
    "i=linspace(0,1000,1000)\n",
    "plt.plot(i,seidel(a, b),'k')\n",
    "plt.show()"
   ]
  },
  {
   "cell_type": "markdown",
   "metadata": {},
   "source": [
    "### Норма от номера итерации"
   ]
  },
  {
   "cell_type": "code",
   "execution_count": 13,
   "metadata": {
    "collapsed": false
   },
   "outputs": [
    {
     "name": "stdout",
     "output_type": "stream",
     "text": [
      "[ 515.06104417  619.35939676  640.59025034  644.92560334  645.81244655]\n"
     ]
    },
    {
     "data": {
      "image/png": "[encoded data removed]",
      "text/plain": [
       "<matplotlib.figure.Figure at 0x7fa8da0>"
      ]
     },
     "metadata": {},
     "output_type": "display_data"
    }
   ],
   "source": [
    "def fun(x,i):\n",
    "    return log(log(10+i+cos(1+exp((-1)*i*x))))\n",
    "def bul(m):\n",
    "    n=0\n",
    "    e=0.01\n",
    "    a=1\n",
    "    b=3\n",
    "    h=(b-a)\n",
    "    Integr=[]\n",
    "    N=[]\n",
    "    T=h/(2*(fun(a,m)+fun(b,m)))\n",
    "    T1=0 #2-ой член\n",
    "    der=0\n",
    "    for z in range(1,2):\n",
    "        der=der+fun(a+(2*z-1)*h,m)\n",
    "    der=der*h \n",
    "    T1=T\n",
    "    T=(T/2)+der\n",
    "    B1=0\n",
    "    B=(16*4*T-19*T1)/45\n",
    "    while abs((B-B1)/B)>e:\n",
    "        n=n+1\n",
    "        N.append(n)\n",
    "        h=h/2\n",
    "        k=int(2**(n-1))\n",
    "        for z in range(1,k+1):\n",
    "            der=der+fun(a+(2*z-1)*h,m)\n",
    "        der=der*h      \n",
    "        T1=T\n",
    "        T=(T/2)+der\n",
    "        B1=B\n",
    "        B=(16*4*T-19*T1)/45\n",
    "        Integr.append(B)\n",
    "    return B\n",
    "def A(i):\n",
    "    return (1+sin(i*i))\n",
    "def B(i):\n",
    "    return 1\n",
    "def C(i):\n",
    "    return -1*(6+sin(i*i)/(i+2))\n",
    "def F(i):\n",
    "    return -1+bul(i)\n",
    "\n",
    "a=np.zeros((1000,1000))\n",
    "b=np.zeros(1000)\n",
    "d=np.zeros(1000)\n",
    "x=np.zeros(1000)\n",
    "for j in range(0,1000):\n",
    "    for i in range(0,1000):\n",
    "        if (i==j):\n",
    "            a[i][j]=C(i+1)\n",
    "        else:\n",
    "            if (i==j+1):\n",
    "                a[i][j]=A(i+1)\n",
    "for i in range(0,999):\n",
    "    a[i][i+1]=B(i)            \n",
    "for i in range(0,1000):\n",
    "    b[i]=F(i)\n",
    "for i in range(0,1000):\n",
    "    d[i]=b[i]/a[i][i]\n",
    "for i in range(0,1000): \n",
    "    x[i]=1\n",
    "def seidel(a, b):\n",
    "    n = len(a)\n",
    "    r = range(n)\n",
    "    x = [0 for i in r]\n",
    "    conv = False\n",
    "    k=0\n",
    "    L=np.zeros([5])\n",
    "    while not conv:\n",
    "        p = x.copy()\n",
    "        for i in r:\n",
    "            var = sum(a[i][j] * x[j] for j in range(0,i))\n",
    "            var += sum(a[i][j] * p[j] for j in range(i+1, 1000))\n",
    "            x[i] = (b[i] - var) / a[i][i]\n",
    "        k=k+1\n",
    "        if k==1:\n",
    "            L[0]=abs(sum(x[i] for i in range(0,1000)))\n",
    "        if k==2:\n",
    "            L[1]=abs(sum(x[i] for i in range(0,1000)))\n",
    "        if k==3:\n",
    "            L[2]=abs(sum(x[i] for i in range(0,1000)))\n",
    "        if k==4:\n",
    "            L[3]=abs(sum(x[i] for i in range(0,1000)))\n",
    "        if k==5:\n",
    "            L[4]=abs(sum(x[i] for i in range(0,1000)))\n",
    "        conv = sum((x[i]-p[i])**2 for i in r) < 0.001 \n",
    "    return L\n",
    "print(seidel(a, b))\n",
    "\n",
    "k=linspace(0,4,5)\n",
    "plt.plot(k,seidel(a, b),'k')\n",
    "plt.show()"
   ]
  },
  {
   "cell_type": "markdown",
   "metadata": {},
   "source": [
    "### Метод Гаусса-Зейделя(10000 уравнений)"
   ]
  },
  {
   "cell_type": "code",
   "execution_count": 16,
   "metadata": {
    "collapsed": false
   },
   "outputs": [
    {
     "data": {
      "image/png": "[encoded data removed]",
      "text/plain": [
       "<matplotlib.figure.Figure at 0x816bb70>"
      ]
     },
     "metadata": {},
     "output_type": "display_data"
    }
   ],
   "source": [
    "def fun(x,i):\n",
    "    return log(log(10+i+cos(1+exp((-1)*i*x))))\n",
    "def bul(m):\n",
    "    n=0\n",
    "    e=0.01\n",
    "    a=1\n",
    "    b=3\n",
    "    h=(b-a)\n",
    "    Integr=[]\n",
    "    N=[]\n",
    "    T=h/(2*(fun(a,m)+fun(b,m)))\n",
    "    T1=0 #2-ой член\n",
    "    der=0\n",
    "    for z in range(1,2):\n",
    "        der=der+fun(a+(2*z-1)*h,m)\n",
    "    der=der*h \n",
    "    T1=T\n",
    "    T=(T/2)+der\n",
    "    B1=0\n",
    "    B=(16*4*T-19*T1)/45\n",
    "    while abs((B-B1)/B)>e:\n",
    "        n=n+1\n",
    "        N.append(n)\n",
    "        h=h/2\n",
    "        k=int(2**(n-1))\n",
    "        for z in range(1,k+1):\n",
    "            der=der+fun(a+(2*z-1)*h,m)\n",
    "        der=der*h      \n",
    "        T1=T\n",
    "        T=(T/2)+der\n",
    "        B1=B\n",
    "        B=(16*4*T-19*T1)/45\n",
    "        Integr.append(B)\n",
    "    return B\n",
    "def A(i):\n",
    "    return (1+sin(i*i))\n",
    "def B(i):\n",
    "    return 1\n",
    "def C(i):\n",
    "    return -1*(6+sin(i*i)/(i+2))\n",
    "def F(i):\n",
    "    return -1+bul(i)\n",
    "\n",
    "a=np.zeros((10000,10000))\n",
    "b=np.zeros(10000)\n",
    "d=np.zeros(10000)\n",
    "x=np.zeros(10000)\n",
    "for j in range(0,10000):\n",
    "    for i in range(0,10000):\n",
    "        if (i==j):\n",
    "            a[i][j]=C(i+1)\n",
    "        else:\n",
    "            if (i==j+1):\n",
    "                a[i][j]=A(i+1)\n",
    "for i in range(0,9999):\n",
    "    a[i][i+1]=B(i)            \n",
    "for i in range(0,10000):\n",
    "    b[i]=F(i)\n",
    "for i in range(0,10000):\n",
    "    d[i]=b[i]/a[i][i]\n",
    "for i in range(0,10000): \n",
    "    x[i]=1\n",
    "def seidel(a, b):\n",
    "    n = len(a)\n",
    "    r = range(n)\n",
    "    x = [0 for i in r]\n",
    "    conv = False\n",
    "    k=0\n",
    "    while not conv:\n",
    "        p = x.copy()\n",
    "        for i in r:\n",
    "            var = sum(a[i][j] * x[j] for j in range(0,i))\n",
    "            var += sum(a[i][j] * p[j] for j in range(i+1, 10000))\n",
    "            x[i] = (b[i] - var) / a[i][i]\n",
    "        k=k+1\n",
    "        conv = sum((x[i]-p[i])**2 for i in r) < 0.001 \n",
    "    return x\n",
    "i=linspace(0,10000,10000)\n",
    "plt.plot(i,seidel(a, b),'k')\n",
    "plt.show()"
   ]
  },
  {
   "cell_type": "markdown",
   "metadata": {},
   "source": [
    "### Решение с помощью solve"
   ]
  },
  {
   "cell_type": "code",
   "execution_count": 14,
   "metadata": {
    "collapsed": false
   },
   "outputs": [
    {
     "data": {
      "text/plain": [
       "array([-0.19732925, -0.18350924, -0.22253403, -0.22273743, -0.23384431,\n",
       "       -0.21719146, -0.23648101, -0.30056139, -0.25194204, -0.22224718])"
      ]
     },
     "execution_count": 14,
     "metadata": {},
     "output_type": "execute_result"
    }
   ],
   "source": [
    "def fun(x,i):\n",
    "    return log(log(10+i+cos(1+exp((-1)*i*x))))\n",
    "def bul(m):\n",
    "    n=0\n",
    "    e=0.01\n",
    "    a=1\n",
    "    b=3\n",
    "    h=(b-a)\n",
    "    Integr=[]\n",
    "    N=[]\n",
    "    T=h/(2*(fun(a,m)+fun(b,m)))\n",
    "    T1=0 #2-ой член\n",
    "    der=0\n",
    "    for z in range(1,2):\n",
    "        der=der+fun(a+(2*z-1)*h,m)\n",
    "    der=der*h \n",
    "    T1=T\n",
    "    T=(T/2)+der\n",
    "    B1=0\n",
    "    B=(16*4*T-19*T1)/45\n",
    "    while abs((B-B1)/B)>e:\n",
    "        n=n+1\n",
    "        N.append(n)\n",
    "        h=h/2\n",
    "        k=int(2**(n-1))\n",
    "        for z in range(1,k+1):\n",
    "            der=der+fun(a+(2*z-1)*h,m)\n",
    "        der=der*h      \n",
    "        T1=T\n",
    "        T=(T/2)+der\n",
    "        B1=B\n",
    "        B=(16*4*T-19*T1)/45\n",
    "        Integr.append(B)\n",
    "    return B\n",
    "\n",
    "def A(i):\n",
    "    return (1+sin(i*i))\n",
    "def B(i):\n",
    "    return 1\n",
    "def C(i):\n",
    "    return -1*(6+sin(i*i)/(i+2))\n",
    "def F(i):\n",
    "    return -1+bul(i)\n",
    "a=np.zeros((10,10))\n",
    "b=np.zeros([10])\n",
    "for i in range(0,10):\n",
    "    b[i]=F(i)\n",
    "for i in range(0,10):\n",
    "    a[i][i]=C(i+1)\n",
    "for i in range(0,10):\n",
    "    a[i][i-1]=A(i+1)\n",
    "for i in range(0,9):\n",
    "    a[i][i+1]=B(i)\n",
    "                 \n",
    "np.linalg.solve(a,b)"
   ]
  },
  {
   "cell_type": "markdown",
   "metadata": {},
   "source": [
    "### Сравнение с исходным решением в методе прогонки"
   ]
  },
  {
   "cell_type": "code",
   "execution_count": 15,
   "metadata": {
    "collapsed": false
   },
   "outputs": [
    {
     "data": {
      "image/png": "[encoded data removed]",
      "text/plain": [
       "<matplotlib.figure.Figure at 0x7cee0b8>"
      ]
     },
     "metadata": {},
     "output_type": "display_data"
    }
   ],
   "source": [
    "def fun(x,i):\n",
    "    return log(log(10+i+cos(1+exp((-1)*i*x))))\n",
    "def bul(m):\n",
    "    n=0\n",
    "    e=0.01\n",
    "    a=1\n",
    "    b=3\n",
    "    h=(b-a)\n",
    "    Integr=[]\n",
    "    N=[]\n",
    "    T=h/(2*(fun(a,m)+fun(b,m)))\n",
    "    T1=0 #2-ой член\n",
    "    der=0\n",
    "    for z in range(1,2):\n",
    "        der=der+fun(a+(2*z-1)*h,m)\n",
    "    der=der*h \n",
    "    T1=T\n",
    "    T=(T/2)+der\n",
    "    B1=0\n",
    "    B=(16*4*T-19*T1)/45\n",
    "    while abs((B-B1)/B)>e:\n",
    "        n=n+1\n",
    "        N.append(n)\n",
    "        h=h/2\n",
    "        k=int(2**(n-1))\n",
    "        for z in range(1,k+1):\n",
    "            der=der+fun(a+(2*z-1)*h,m)\n",
    "        der=der*h      \n",
    "        T1=T\n",
    "        T=(T/2)+der\n",
    "        B1=B\n",
    "        B=(16*4*T-19*T1)/45\n",
    "        Integr.append(B)\n",
    "    return B\n",
    "def A(i):\n",
    "    return (1+sin(i*i))\n",
    "def B(i):\n",
    "    return 1\n",
    "def C(i):\n",
    "    return -1*(6+sin(i*i)/(i+2))\n",
    "def F(i):\n",
    "    return -1+bul(i)\n",
    "\n",
    "\n",
    "alfa=np.zeros([10])\n",
    "beta=np.zeros([10])\n",
    "x=np.zeros([10])\n",
    "x[0]=-0.2\n",
    "x[1]=-0.22\n",
    "alfa[2]=-1/(C(1))\n",
    "beta[2]=(F(1)-A(1))/C(1)\n",
    "for i in range(3, 10):\n",
    "    alfa[i]=-1/(A(i)*alfa[i-1]+C(i))\n",
    "    beta[i]=(F(i)-A(i)*beta[i])/(A(i)*alfa[i-1]+C(i))\n",
    "x[9]=(F(9)-beta[8]*A(9))/(alfa[8]*A(9)+C(9))\n",
    "for  i in range(8,1,-1):\n",
    "    x[i]=alfa[i+1]*x[i+1]+beta[i+1]\n",
    "#x[1]=alfa[2]*x[2]+beta[2]    \n",
    "i=linspace(0,10,10)\n",
    "L=np.array([-0.19305729, -0.17958667, -0.21796112, -0.21833709, -0.22935915, -0.21314435, -0.23216241, -0.29514548, -0.24748342, -0.21836216])\n",
    "\n",
    "plt.plot(i,x,L,'k')\n",
    "plt.show()"
   ]
  },
  {
   "cell_type": "code",
   "execution_count": null,
   "metadata": {
    "collapsed": true
   },
   "outputs": [],
   "source": []
  }
 ],
 "metadata": {
  "anaconda-cloud": {},
  "kernelspec": {
   "display_name": "Python [Root]",
   "language": "python",
   "name": "Python [Root]"
  },
  "language_info": {
   "codemirror_mode": {
    "name": "ipython",
    "version": 3
   },
   "file_extension": ".py",
   "mimetype": "text/x-python",
   "name": "python",
   "nbconvert_exporter": "python",
   "pygments_lexer": "ipython3",
   "version": "3.5.2"
  }
 },
 "nbformat": 4,
 "nbformat_minor": 0
}
